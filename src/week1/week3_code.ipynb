{
 "cells": [
  {
   "cell_type": "markdown",
   "id": "5658d019",
   "metadata": {},
   "source": [
    "# In Class Examples | Week 1 | AIST 2110 | Committing Basics"
   ]
  },
  {
   "cell_type": "markdown",
   "id": "402d68d4",
   "metadata": {},
   "source": [
    "## Committing and Pushing"
   ]
  },
  {
   "cell_type": "code",
   "execution_count": null,
   "id": "607e6263",
   "metadata": {},
   "outputs": [],
   "source": [
    "! git commit -a -m \"Done\"\n",
    "! git push"
   ]
  },
  {
   "cell_type": "markdown",
   "id": "b21d706b",
   "metadata": {},
   "source": [
    "Created by Seth Barrett | 2025"
   ]
  }
 ],
 "metadata": {
  "kernelspec": {
   "display_name": "inclasscode",
   "language": "python",
   "name": "python3"
  },
  "language_info": {
   "codemirror_mode": {
    "name": "ipython",
    "version": 3
   },
   "file_extension": ".py",
   "mimetype": "text/x-python",
   "name": "python",
   "nbconvert_exporter": "python",
   "pygments_lexer": "ipython3",
   "version": "3.11.1"
  }
 },
 "nbformat": 4,
 "nbformat_minor": 5
}
