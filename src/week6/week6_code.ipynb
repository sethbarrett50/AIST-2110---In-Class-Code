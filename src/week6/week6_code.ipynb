{
 "cells": [
  {
   "cell_type": "markdown",
   "id": "5658d019",
   "metadata": {},
   "source": [
    "# In Class Examples | Week 6 | AIST 2110 | Conditional Execution Cont."
   ]
  },
  {
   "cell_type": "markdown",
   "id": "8e4d1cce",
   "metadata": {},
   "source": [
    "## Review"
   ]
  },
  {
   "cell_type": "code",
   "execution_count": null,
   "id": "3fcc597a",
   "metadata": {},
   "outputs": [],
   "source": [
    "try:\n",
    "    age = int(input(\"Enter your age: \"))\n",
    "except ValueError:\n",
    "    print(\"Invalid input. Please enter a valid age.\")\n",
    "    exit()\n",
    "if age < 0:\n",
    "    print(\"Age cannot be negative.\")\n",
    "    exit()\n",
    "if age > 120:\n",
    "    print(\"Age seems too high.\")\n",
    "    exit()\n",
    "day = input(\"Enter day of the week: \").strip().capitalize()\n",
    "\n",
    "if age < 5:\n",
    "    price = 0\n",
    "elif age < 18:\n",
    "    if day == \"Wednesday\":\n",
    "        price = 5\n",
    "    else:\n",
    "        price = 7\n",
    "elif age >= 65:\n",
    "    if day == \"Monday\":\n",
    "        price = 4\n",
    "    else:\n",
    "        price = 6\n",
    "else:\n",
    "    if day == \"Tuesday\":\n",
    "        price = 8\n",
    "    else:\n",
    "        price = 10\n",
    "\n",
    "\n",
    "print(f\"Your ticket price is: ${price}\")\n"
   ]
  },
  {
   "cell_type": "markdown",
   "id": "de3b794c",
   "metadata": {},
   "source": [
    "## Importing"
   ]
  },
  {
   "cell_type": "code",
   "execution_count": null,
   "id": "ec148e21",
   "metadata": {},
   "outputs": [],
   "source": [
    "import random\n",
    "import calendar\n",
    "import statistics\n",
    "import grades\n",
    "\n",
    "print(f\"Random number from 1-10: {random.randint(1, 11)}\")\n",
    "print(f\"Is 2025 a leap year: {calendar.isleap(2025)}\")\n",
    "print(f\"Class A Avg: {statistics.mean(grades.classA_grades)}\")"
   ]
  },
  {
   "cell_type": "markdown",
   "id": "5bce6b08",
   "metadata": {},
   "source": [
    "## From importing\n",
    "\n"
   ]
  },
  {
   "cell_type": "code",
   "execution_count": null,
   "id": "2b0d0537",
   "metadata": {},
   "outputs": [],
   "source": [
    "from random import randint\n",
    "from calendar import isleap\n",
    "from statistics import mean\n",
    "from grades import classA_grades\n",
    "\n",
    "print(f\"Random number from 1-10: {randint(1, 11)}\")\n",
    "print(f\"Is 2025 a leap year: {isleap(2025)}\")\n",
    "print(f\"Class A Avg: {mean(classA_grades)}\")"
   ]
  },
  {
   "cell_type": "markdown",
   "id": "0faae5b8",
   "metadata": {},
   "source": [
    "## Importing Local Functions"
   ]
  },
  {
   "cell_type": "code",
   "execution_count": null,
   "id": "cb2c54cb",
   "metadata": {},
   "outputs": [],
   "source": [
    "from statistics import mean\n",
    "from grades import classA_grades, classB_grades, classC_grades\n",
    "from grade_formatter import grade_formatter\n",
    "\n",
    "print(f\"Class A Avg: {mean(classA_grades)}\")\n",
    "print(f\"Class B Avg: {mean(classB_grades)}\")\n",
    "print(f\"Class C Avg: {mean(classC_grades)}\")\n",
    "\n",
    "print(f\"Class A Avg: {grade_formatter(mean(classA_grades))}\")\n",
    "print(f\"Class B Avg: {grade_formatter(mean(classB_grades))}\")\n",
    "print(f\"Class C Avg: {grade_formatter(mean(classC_grades))}\")\n"
   ]
  },
  {
   "cell_type": "markdown",
   "id": "d55f67ca",
   "metadata": {},
   "source": [
    "### Better Version"
   ]
  },
  {
   "cell_type": "code",
   "execution_count": null,
   "id": "43e97510",
   "metadata": {},
   "outputs": [],
   "source": [
    "from statistics import mean\n",
    "from grades import classA_grades, classB_grades, classC_grades\n",
    "from grade_formatter import grade_formatter\n",
    "\n",
    "\n",
    "classA_mean = mean(classA_grades)  # Show StatisticsError ex\n",
    "\n",
    "# classA_grades = []\n",
    "# classA_mean = mean(classA_grades) \n",
    "\n",
    "classB_mean = mean(classB_grades)\n",
    "classC_mean = mean(classC_grades)\n",
    "\n",
    "try:\n",
    "    print(f\"Class A Avg: {grade_formatter(classA_mean)}\")\n",
    "except ValueError:\n",
    "    print(\"Class A's grades are messed up\")\n",
    "\n",
    "try:\n",
    "    print(f\"Class B Avg: {grade_formatter(classB_mean)}\")\n",
    "except ValueError:\n",
    "    print(\"Class B's grades are messed up\")\n",
    "\n",
    "try:\n",
    "    print(f\"Class C Avg: {grade_formatter(classC_mean)}\")\n",
    "except ValueError:\n",
    "    print(\"Class C's grades are messed up\")"
   ]
  },
  {
   "cell_type": "markdown",
   "id": "b21d706b",
   "metadata": {},
   "source": [
    "Created by Seth Barrett | 2025"
   ]
  }
 ],
 "metadata": {
  "kernelspec": {
   "display_name": "inclasscode",
   "language": "python",
   "name": "python3"
  },
  "language_info": {
   "codemirror_mode": {
    "name": "ipython",
    "version": 3
   },
   "file_extension": ".py",
   "mimetype": "text/x-python",
   "name": "python",
   "nbconvert_exporter": "python",
   "pygments_lexer": "ipython3",
   "version": "3.11.1"
  }
 },
 "nbformat": 4,
 "nbformat_minor": 5
}
