{
 "cells": [
  {
   "cell_type": "markdown",
   "id": "5658d019",
   "metadata": {},
   "source": [
    "# In Class Examples | Week 6 | AIST 2110 | Imports & More"
   ]
  },
  {
   "cell_type": "markdown",
   "id": "8e4d1cce",
   "metadata": {},
   "source": [
    "## Review"
   ]
  },
  {
   "cell_type": "code",
   "execution_count": null,
   "id": "3fcc597a",
   "metadata": {},
   "outputs": [],
   "source": [
    "try:\n",
    "    age = int(input(\"Enter your age: \"))\n",
    "except ValueError:\n",
    "    print(\"Invalid input. Please enter a valid age.\")\n",
    "    exit()\n",
    "if age < 0:\n",
    "    print(\"Age cannot be negative.\")\n",
    "    exit()\n",
    "if age > 120:\n",
    "    print(\"Age seems too high.\")\n",
    "    exit()\n",
    "day = input(\"Enter day of the week: \").strip().capitalize()\n",
    "\n",
    "if age < 5:\n",
    "    price = 0\n",
    "elif age < 18:\n",
    "    if day == \"Wednesday\":\n",
    "        price = 5\n",
    "    else:\n",
    "        price = 7\n",
    "elif age >= 65:\n",
    "    if day == \"Monday\":\n",
    "        price = 4\n",
    "    else:\n",
    "        price = 6\n",
    "else:\n",
    "    if day == \"Tuesday\":\n",
    "        price = 8\n",
    "    else:\n",
    "        price = 10\n",
    "\n",
    "\n",
    "print(f\"Your ticket price is: ${price}\")\n"
   ]
  },
  {
   "cell_type": "markdown",
   "id": "de3b794c",
   "metadata": {},
   "source": [
    "## Importing"
   ]
  },
  {
   "cell_type": "code",
   "execution_count": 6,
   "id": "ec148e21",
   "metadata": {},
   "outputs": [
    {
     "name": "stdout",
     "output_type": "stream",
     "text": [
      "Random number from 1-10: 6\n",
      "Is 2025 a leap year: False\n",
      "Class A Avg: 86.252\n",
      "[95.0, 89.2, 92.7, 85.4, 90.1, 88.5, 91.3, 87.6, 93.2, 85.7, 90.4, 86.8, 92.0, 88.1, 89.9, 91.5, 87.4, 90.6, 94.2, 86.0, 88.9, 92.4, 90.7, 89.5, 91.1]\n"
     ]
    }
   ],
   "source": [
    "import random\n",
    "import calendar\n",
    "import statistics\n",
    "import grades\n",
    "\n",
    "\n",
    "print(f\"Random number from 1-10: {random.randint(1, 10)}\")\n",
    "print(f\"Is 2025 a leap year: {calendar.isleap(2025)}\")\n",
    "print(f\"Class A Avg: {statistics.mean(grades.classA_grades)}\")\n",
    "\n",
    "print(grades.classC_grades)"
   ]
  },
  {
   "cell_type": "markdown",
   "id": "5bce6b08",
   "metadata": {},
   "source": [
    "## From importing [better]\n",
    "\n"
   ]
  },
  {
   "cell_type": "code",
   "execution_count": null,
   "id": "2b0d0537",
   "metadata": {},
   "outputs": [],
   "source": [
    "from random import randint\n",
    "from calendar import isleap\n",
    "from statistics import mean, median\n",
    "from grades import classA_grades\n",
    "\n",
    "print(f\"Random number from 1-10: {randint(1, 11)}\")\n",
    "print(f\"Is 2025 a leap year: {isleap(2025)}\")\n",
    "print(f\"Class A Avg: {mean(classA_grades)}\")\n",
    "print(f\"Class A Avg: {median(classA_grades)}\")"
   ]
  },
  {
   "cell_type": "markdown",
   "id": "0faae5b8",
   "metadata": {},
   "source": [
    "## Importing Local Functions"
   ]
  },
  {
   "cell_type": "code",
   "execution_count": 7,
   "id": "cb2c54cb",
   "metadata": {},
   "outputs": [
    {
     "name": "stdout",
     "output_type": "stream",
     "text": [
      "70% (D)\n",
      "Class A Avg: 86.252\n",
      "Class B Avg: 82.932\n",
      "Class C Avg: 89.928\n",
      "Class A Avg: 86.25% (B)\n",
      "Class B Avg: 82.93% (B)\n",
      "Class C Avg: 89.93% (B)\n"
     ]
    }
   ],
   "source": [
    "from statistics import mean\n",
    "from grades import classA_grades, classB_grades, classC_grades\n",
    "from grade_formatter import grade_format\n",
    "\n",
    "print(grade_format(70))\n",
    "\n",
    "\n",
    "print(f\"Class A Avg: {mean(classA_grades)}\")\n",
    "print(f\"Class B Avg: {mean(classB_grades)}\")\n",
    "print(f\"Class C Avg: {mean(classC_grades)}\")\n",
    "\n",
    "print(f\"Class A Avg: {grade_format(mean(classA_grades))}\")\n",
    "print(f\"Class B Avg: {grade_format(mean(classB_grades))}\")\n",
    "print(f\"Class C Avg: {grade_format(mean(classC_grades))}\")\n",
    "\n"
   ]
  },
  {
   "cell_type": "markdown",
   "id": "b000f8dc",
   "metadata": {},
   "source": [
    "## Combining Imports w/ Conditionals"
   ]
  },
  {
   "cell_type": "code",
   "execution_count": 8,
   "id": "ad83f23b",
   "metadata": {},
   "outputs": [],
   "source": [
    "import math\n",
    "import statistics as stats\n",
    "import calendar\n",
    "\n",
    "# --- Classroom scenario data you can tweak during the demo ---\n",
    "credits: int = 11\n",
    "gpa: float = 3.6\n",
    "on_probation: bool = False\n",
    "\n",
    "attended: int = 12\n",
    "total_classes: int = 16\n",
    "\n",
    "scores: list[float] = [88, 92, 79, 95]  # recent quiz/test scores\n",
    "score: float = 84                        # a single score to compare\n",
    "\n",
    "year: int = 2024\n",
    "month: int = 2\n",
    "day: int = 29\n",
    "\n",
    "late: bool = True\n",
    "excused: bool = False\n"
   ]
  },
  {
   "cell_type": "code",
   "execution_count": null,
   "id": "ea8a30a5",
   "metadata": {},
   "outputs": [
    {
     "name": "stdout",
     "output_type": "stream",
     "text": [
      "---- Status Flags ----\n",
      "is_full_time:         False  (credits >= 12)\n",
      "has_good_standing:    False  (gpa >= 2.0 and not on_probation)\n",
      "qualifies_for_honors: False  (gpa >= 3.5 and credits >= 12)\n",
      "attendance_rate:      0.75  (12/16)\n",
      "attendance_rate:      0.75  (12/16)\n",
      "needs_makeup:         False  (attendance_rate < 0.75 or no classes)\n"
     ]
    }
   ],
   "source": [
    "# Relational operators (>=, >, ==, etc.) that evaluate to bools:\n",
    "is_full_time: bool = credits >= 12 # credits: int = 11\n",
    "\n",
    "has_good_standing: bool = (gpa >= 2.0) and (not on_probation and year == 2025) # gpa: float = 3.6 on_probation: bool = False\n",
    "\n",
    "qualifies_for_honors: bool = (gpa >= 3.5) and (credits > 12)# gpa: float = 3.6 credits: 12\n",
    "\n",
    "# Attendance rate with a safe guard for division by zero:\n",
    "\n",
    "if total_classes > 0:\n",
    "    attendance_rate: float = attended / total_classes \n",
    "else:\n",
    "    attendance_rate: float =  float(\"nan\")\n",
    "    \n",
    "needs_makeup: bool = (total_classes == 0) or (attendance_rate <= 0.75) # total_classes: int = 16  ar8 = .75\n",
    "\n",
    "print(\"---- Status Flags ----\")\n",
    "print(f\"is_full_time:         {is_full_time}  (credits >= 12)\")\n",
    "print(f\"has_good_standing:    {has_good_standing}  (gpa >= 2.0 and not on_probation)\")\n",
    "print(f\"qualifies_for_honors: {qualifies_for_honors}  (gpa >= 3.5 and credits >= 12)\")\n",
    "print(f\"attendance_rate:      {attendance_rate:.2f}  ({attended}/{total_classes})\")\n",
    "print(f\"attendance_rate:      {round(attendance_rate, 2)}  ({attended}/{total_classes})\")\n",
    "print(f\"needs_makeup:         {needs_makeup}  (attendance_rate < 0.75 or no classes)\")\n"
   ]
  },
  {
   "cell_type": "markdown",
   "id": "8643cb42",
   "metadata": {},
   "source": [
    "### Extra Examples"
   ]
  },
  {
   "cell_type": "code",
   "execution_count": null,
   "id": "403c5e93",
   "metadata": {},
   "outputs": [],
   "source": [
    "# --- statistics examples ---\n",
    "avg_score: float = stats.mean(scores) # 88.5\n",
    "stdev_score: float = stats.pstdev(scores)  # population stdev 6.020797289396148\n",
    "print(f\"{avg_score} | {stdev_score}\")\n",
    "\n",
    "# “Good exam week” if mean >= 85 AND consistency is high (stdev <= 10)\n",
    "good_exam_week: bool = (avg_score >= 85.0) and (stdev_score <= 10.0)\n",
    "\n",
    "# --- math examples ---\n",
    "# Validate that attendance_rate is a real number AND good enough\n",
    "safe_attendance: bool = math.isfinite(attendance_rate) and (attendance_rate >= 0.80) # ar8 = .75\n",
    "\n",
    "# Use chained comparisons with math: check if score is in a band\n",
    "mid_band: bool = 70 <= score <= 89  # relational chaining #  84\n",
    "\n",
    "# --- calendar example ---\n",
    "leap_year: bool = calendar.isleap(year) # True\n",
    "feb_has_29_days: bool = (month == 2) and leap_year\n",
    "\n",
    "# Valid February day check with leap-year logic:\n",
    "\n",
    "\n",
    "year: int = 2024\n",
    "month: int = 2\n",
    "day: int = 29\n",
    "\n",
    "valid_feb_day: bool = (\n",
    "    (month != 2) or\n",
    "    (leap_year and 1 <= day <= 29) or\n",
    "    ((not leap_year) and 1 <= day <= 28)\n",
    ")\n",
    "\n",
    "print(\"---- Stats/Math/Calendar ----\")\n",
    "print(f\"avg_score:        {avg_score:.2f}, stdev_score: {stdev_score:.2f}\")\n",
    "print(f\"good_exam_week:   {good_exam_week}  (avg>=85 and stdev<=10)\")\n",
    "print(f\"safe_attendance:  {safe_attendance}  (finite and >= 0.80)\")\n",
    "print(f\"mid_band(70–89):  {mid_band}\")\n",
    "print(f\"leap_year({year}): {leap_year}\")\n",
    "print(f\"feb_has_29_days:  {feb_has_29_days}\")\n",
    "print(f\"valid_feb_day:    {valid_feb_day}  (leap-aware day check)\")\n"
   ]
  },
  {
   "cell_type": "code",
   "execution_count": null,
   "id": "0709a06c",
   "metadata": {},
   "outputs": [],
   "source": [
    "# Combine previously computed boolean flags:\n",
    "honors_or_fulltime: bool = qualifies_for_honors or is_full_time\n",
    "penalty_applies: bool = late and not excused\n",
    "eligible_for_final: bool = (avg_score >= 60) and (attendance_rate >= 0.80)\n",
    "\n",
    "print(\"---- Combined Logic ----\")\n",
    "print(f\"honors_or_fulltime: {honors_or_fulltime}  (qualifies_for_honors or is_full_time)\")\n",
    "print(f\"penalty_applies:    {penalty_applies}  (late and not excused)\")\n",
    "print(f\"eligible_for_final: {eligible_for_final}  (avg>=60 and attendance>=0.80)\")\n"
   ]
  },
  {
   "cell_type": "markdown",
   "id": "9ad2359e",
   "metadata": {},
   "source": [
    "## How to find libraries to use & functions from imported libraries"
   ]
  },
  {
   "cell_type": "code",
   "execution_count": null,
   "id": "42c889d3",
   "metadata": {},
   "outputs": [],
   "source": [
    "import statistics\n",
    "from grades import classA_grades\n",
    "from grade_formatter import grade_format\n",
    "\n",
    "input(\"Show how to find functions via dot notation\")\n",
    "\n",
    "print(\"List of built-in Python libraries: https://docs.python.org/3/library/\")\n",
    "print(\"Stats Lib Docs: https://docs.python.org/3/library/statistics.html\")\n",
    "input(\"Show how to find library info from docs\")\n",
    "\n",
    "\n",
    "print(\"Show how to find info in terminal\")\n",
    "! python -m pydoc statistics # Run this in actual terminal\n",
    "\n",
    "\n",
    "input(\"Show how to get info from docstrings\")\n",
    "print(f\"Hover over `median` in code: {statistics.median(classA_grades)}\")\n",
    "\n",
    "\n",
    "input(\"What about local files?\")\n",
    "print(f\"Hover over `grade_formatter` in code: {grade_format(statistics.median(classA_grades))}\")\n",
    "\n",
    "print(\"What about external libraries: https://pypi.org/\")\n",
    "print(\"Mainly for AIST 2120, but important to know it exists\")"
   ]
  },
  {
   "cell_type": "markdown",
   "id": "7ef4d949",
   "metadata": {},
   "source": [
    "## Better Version of importing Local Functions"
   ]
  },
  {
   "cell_type": "markdown",
   "id": "2a56a74e",
   "metadata": {},
   "source": [
    "### Original Version"
   ]
  },
  {
   "cell_type": "code",
   "execution_count": null,
   "id": "f20ea225",
   "metadata": {},
   "outputs": [],
   "source": [
    "from statistics import mean\n",
    "from grades import classA_grades, classB_grades, classC_grades\n",
    "from grade_formatter import grade_format\n",
    "\n",
    "\n",
    "\n",
    "print(f\"Class A Avg: {grade_format(mean(classA_grades))}\")\n",
    "print(f\"Class B Avg: {grade_format(mean(classB_grades))}\")\n",
    "print(f\"Class C Avg: {grade_format(mean(classC_grades))}\")\n"
   ]
  },
  {
   "cell_type": "markdown",
   "id": "1a2b1288",
   "metadata": {},
   "source": [
    "### Class Version"
   ]
  },
  {
   "cell_type": "code",
   "execution_count": 1,
   "id": "7fafd4aa",
   "metadata": {},
   "outputs": [
    {
     "name": "stdout",
     "output_type": "stream",
     "text": [
      "Class A Avg: 86.25% (B)\n",
      "Class B Avg: 82.93% (B)\n",
      "Class C Avg: 89.93% (B)\n"
     ]
    }
   ],
   "source": [
    "# Pair Programming Time\n",
    "from statistics import  mean, StatisticsError\n",
    "from grades import classA_grades, classB_grades, classC_grades\n",
    "from grade_formatter import grade_format\n",
    "# classA_grades = []\n",
    "\n",
    "try:\n",
    "    avg_classA = mean(classA_grades)\n",
    "except StatisticsError:\n",
    "    print(\"Error: Class A grades empty\")\n",
    "    exit()\n",
    "\n",
    "try:\n",
    "    avg_classA_formatted = grade_format(avg_classA)\n",
    "except ValueError:\n",
    "    print(\"Error: Class A avg was either below 0 or above 100\")\n",
    "    exit()\n",
    "\n",
    "print(f\"Class A Avg: {avg_classA_formatted}\")\n",
    "\n",
    "try:\n",
    "    avg_classB = mean(classB_grades)\n",
    "except StatisticsError:\n",
    "    print(\"Error: Class B grades empty\")\n",
    "    exit()\n",
    "\n",
    "try:\n",
    "    avg_classB_formatted = grade_format(avg_classB)\n",
    "except ValueError:\n",
    "    print(\"Error: Class B avg was either below 0 or above 100\")\n",
    "    exit()\n",
    "\n",
    "print(f\"Class B Avg: {avg_classB_formatted}\")\n",
    "\n",
    "try:\n",
    "    avg_classC = mean(classC_grades)\n",
    "except StatisticsError:\n",
    "    print(\"Error: Class C grades empty\")\n",
    "    exit()\n",
    "\n",
    "try:\n",
    "    avg_classC_formatted = grade_format(avg_classC)\n",
    "except ValueError:\n",
    "    print(\"Error: Class C avg was either below 0 or above 100\")\n",
    "    exit()\n",
    "\n",
    "print(f\"Class C Avg: {avg_classC_formatted}\")\n"
   ]
  },
  {
   "cell_type": "markdown",
   "id": "1b752e05",
   "metadata": {},
   "source": [
    "### My Version"
   ]
  },
  {
   "cell_type": "code",
   "execution_count": null,
   "id": "279fc39c",
   "metadata": {},
   "outputs": [],
   "source": [
    "from statistics import mean\n",
    "from grades import classA_grades, classB_grades, classC_grades\n",
    "from grade_formatter import grade_format\n",
    "\n",
    "\n",
    "classA_mean = mean(classA_grades)  # Show StatisticsError ex\n",
    "\n",
    "# classA_grades = []\n",
    "# classA_mean = mean(classA_grades) \n",
    "\n",
    "classB_mean = mean(classB_grades)\n",
    "classC_mean = mean(classC_grades)\n",
    "\n",
    "try:\n",
    "    print(f\"Class A Avg: {grade_format(classA_mean)}\")\n",
    "except ValueError:\n",
    "    print(\"Class A's grades are messed up\")\n",
    "\n",
    "try:\n",
    "    print(f\"Class B Avg: {grade_format(classB_mean)}\")\n",
    "except ValueError:\n",
    "    print(\"Class B's grades are messed up\")\n",
    "\n",
    "try:\n",
    "    print(f\"Class C Avg: {grade_format(classC_mean)}\")\n",
    "except ValueError:\n",
    "    print(\"Class C's grades are messed up\")"
   ]
  },
  {
   "cell_type": "markdown",
   "id": "b21d706b",
   "metadata": {},
   "source": [
    "Created by Seth Barrett | 2025"
   ]
  }
 ],
 "metadata": {
  "kernelspec": {
   "display_name": "inclasscode",
   "language": "python",
   "name": "python3"
  },
  "language_info": {
   "codemirror_mode": {
    "name": "ipython",
    "version": 3
   },
   "file_extension": ".py",
   "mimetype": "text/x-python",
   "name": "python",
   "nbconvert_exporter": "python",
   "pygments_lexer": "ipython3",
   "version": "3.11.1"
  }
 },
 "nbformat": 4,
 "nbformat_minor": 5
}
