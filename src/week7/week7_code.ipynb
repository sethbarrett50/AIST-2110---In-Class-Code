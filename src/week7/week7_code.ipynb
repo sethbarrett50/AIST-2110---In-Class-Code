{
 "cells": [
  {
   "cell_type": "markdown",
   "id": "5658d019",
   "metadata": {},
   "source": [
    "# In Class Examples | Week 7 | AIST 2110 | Functions"
   ]
  },
  {
   "cell_type": "markdown",
   "id": "8e4d1cce",
   "metadata": {},
   "source": [
    "## Review"
   ]
  },
  {
   "cell_type": "code",
   "execution_count": null,
   "id": "3fcc597a",
   "metadata": {},
   "outputs": [],
   "source": [
    "from statistics import  mean, StatisticsError\n",
    "from grades import classA_grades, classB_grades, classC_grades\n",
    "from grade_formatter import grade_format\n",
    "# classA_grades = []\n",
    "\n",
    "try:\n",
    "    avg_classA = mean(classA_grades)\n",
    "except StatisticsError:\n",
    "    print(\"Error: Class A grades empty\")\n",
    "    exit()\n",
    "\n",
    "try:\n",
    "    avg_classA_formatted = grade_format(avg_classA)\n",
    "except ValueError:\n",
    "    print(\"Error: Class A avg was either below 0 or above 100\")\n",
    "    exit()\n",
    "\n",
    "print(f\"Class A Avg: {avg_classA_formatted}\")\n",
    "\n",
    "try:\n",
    "    avg_classB = mean(classB_grades)\n",
    "except StatisticsError:\n",
    "    print(\"Error: Class B grades empty\")\n",
    "    exit()\n",
    "\n",
    "try:\n",
    "    avg_classB_formatted = grade_format(avg_classB)\n",
    "except ValueError:\n",
    "    print(\"Error: Class B avg was either below 0 or above 100\")\n",
    "    exit()\n",
    "\n",
    "print(f\"Class B Avg: {avg_classB_formatted}\")\n",
    "\n",
    "try:\n",
    "    avg_classC = mean(classC_grades)\n",
    "except StatisticsError:\n",
    "    print(\"Error: Class C grades empty\")\n",
    "    exit()\n",
    "\n",
    "try:\n",
    "    avg_classC_formatted = grade_format(avg_classC)\n",
    "except ValueError:\n",
    "    print(\"Error: Class C avg was either below 0 or above 100\")\n",
    "    exit()\n",
    "\n",
    "print(f\"Class C Avg: {avg_classC_formatted}\")\n"
   ]
  },
  {
   "cell_type": "markdown",
   "id": "de3b794c",
   "metadata": {},
   "source": [
    "## Function Definitions"
   ]
  },
  {
   "cell_type": "code",
   "execution_count": null,
   "id": "2b0d0537",
   "metadata": {},
   "outputs": [],
   "source": [
    "def print_hi():\n",
    "    print(\"Hi\")"
   ]
  },
  {
   "cell_type": "markdown",
   "id": "0faae5b8",
   "metadata": {},
   "source": [
    "## Function Args"
   ]
  },
  {
   "cell_type": "code",
   "execution_count": null,
   "id": "bbd6b733",
   "metadata": {},
   "outputs": [],
   "source": [
    "def add_two(x):\n",
    "    print(f\"{x} + 2 = {x + 2}\")"
   ]
  },
  {
   "cell_type": "markdown",
   "id": "7ef4d949",
   "metadata": {},
   "source": [
    "## Function Returns"
   ]
  },
  {
   "cell_type": "code",
   "execution_count": null,
   "id": "d1e3972f",
   "metadata": {},
   "outputs": [],
   "source": [
    "def add(x,y):\n",
    "    return x+y"
   ]
  },
  {
   "cell_type": "markdown",
   "id": "9600846c",
   "metadata": {},
   "source": [
    "## Function Args & Returns w/ Typing"
   ]
  },
  {
   "cell_type": "code",
   "execution_count": null,
   "id": "47f51019",
   "metadata": {},
   "outputs": [],
   "source": [
    "\n",
    "def add_float(x:float, y:float) -> float:\n",
    "    return float(x + y)\n",
    "\n",
    "a,b = 1.0, .333333\n",
    "\n",
    "print(add_float(a, b))\n",
    "\n",
    "print(add_float(int(a), int(b)))"
   ]
  },
  {
   "cell_type": "markdown",
   "id": "24706db8",
   "metadata": {},
   "source": [
    "## None Type"
   ]
  },
  {
   "cell_type": "code",
   "execution_count": null,
   "id": "793f0599",
   "metadata": {},
   "outputs": [],
   "source": [
    "def return_gt_zero(x: int|float) -> None | int | float:\n",
    "    if x > 0:\n",
    "        return x\n",
    "    else:\n",
    "        return None\n",
    "    \n",
    "\n",
    "# Usually used in User Input Validation functions for this class\n",
    "try:\n",
    "    x = float(input(\"enter a num: \"))\n",
    "except ValueError:\n",
    "    print(\"Bad input\")\n",
    "    exit()\n",
    "\n",
    "x2 = return_gt_zero(x) # Can return None\n",
    "print(f\"Your input plus 1 is: {x2+1}\")"
   ]
  },
  {
   "cell_type": "markdown",
   "id": "0aeb55be",
   "metadata": {},
   "source": [
    "## Functions for user input validation using try-except"
   ]
  },
  {
   "cell_type": "code",
   "execution_count": null,
   "id": "1dd58e01",
   "metadata": {},
   "outputs": [],
   "source": [
    "def get_positive_int(question: str) -> int | None:\n",
    "    \"\"\"\n",
    "    Asks a user a question, gets input from the user, and returns the input if its a positive integer.\n",
    "    If they enter anything besides a positive integer, None is returned\n",
    "\n",
    "    Args:\n",
    "        question (str): Question a user is prompted with\n",
    "\n",
    "    Returns:\n",
    "        int | None: Integer if user input is a positive integer, else None\n",
    "    \"\"\"\n",
    "    try:\n",
    "        user_in = int(input(question))\n",
    "    except ValueError:\n",
    "        return None\n",
    "    if user_in > 0:\n",
    "        return user_in\n",
    "    else:\n",
    "        return None\n",
    "    \n",
    "\n",
    "num1 = get_positive_int(\"Please enter a positive integer: \")\n",
    "\n",
    "if num1: \n",
    "    print(f\"The positive integer you entered was: {num1}\")\n",
    "else:\n",
    "    print(\"You entered a bad input!\")\n",
    "\n",
    "num2 = get_positive_int(\"Please enter a positive integer: \")\n",
    "num3 = get_positive_int(\"Please enter a positive integer: \")\n",
    "num4 = get_positive_int(\"Please enter a positive integer: \")\n",
    "\n",
    "\n",
    "\n",
    "\n",
    "\n",
    "\n",
    "\n",
    "\n",
    "\n",
    "\n",
    "\n",
    "\n",
    "\n",
    "\n",
    "\n",
    "\n",
    "def print_pos_int(x:int | None) -> None:\n",
    "    if x: \n",
    "        print(f\"The positive integer you entered was: {x}\")\n",
    "    else:\n",
    "        print(\"You entered a bad input!\")\n",
    "\n",
    "print_pos_int(num2)\n",
    "print_pos_int(num3)\n",
    "print_pos_int(num4)\n"
   ]
  },
  {
   "cell_type": "markdown",
   "id": "3d649d2f",
   "metadata": {},
   "source": [
    "## Test Functions in CodeSpaces"
   ]
  },
  {
   "cell_type": "markdown",
   "id": "b21d706b",
   "metadata": {},
   "source": [
    "Created by Seth Barrett | 2025"
   ]
  }
 ],
 "metadata": {
  "kernelspec": {
   "display_name": "inclasscode",
   "language": "python",
   "name": "python3"
  },
  "language_info": {
   "codemirror_mode": {
    "name": "ipython",
    "version": 3
   },
   "file_extension": ".py",
   "mimetype": "text/x-python",
   "name": "python",
   "nbconvert_exporter": "python",
   "pygments_lexer": "ipython3",
   "version": "3.11.1"
  }
 },
 "nbformat": 4,
 "nbformat_minor": 5
}
