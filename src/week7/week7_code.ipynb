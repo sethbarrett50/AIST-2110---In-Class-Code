{
 "cells": [
  {
   "cell_type": "markdown",
   "id": "5658d019",
   "metadata": {},
   "source": [
    "# In Class Examples | Week 7 | AIST 2110 | Functions"
   ]
  },
  {
   "cell_type": "markdown",
   "id": "8e4d1cce",
   "metadata": {},
   "source": [
    "## Review"
   ]
  },
  {
   "cell_type": "code",
   "execution_count": null,
   "id": "3fcc597a",
   "metadata": {},
   "outputs": [
    {
     "name": "stdout",
     "output_type": "stream",
     "text": [
      "Class A Avg: 86.25% (B)\n",
      "Class B Avg: 82.93% (B)\n"
     ]
    }
   ],
   "source": [
    "from statistics import  mean, StatisticsError\n",
    "from grades import classA_grades, classB_grades, classC_grades\n",
    "from grade_formatter import grade_format\n",
    "# classA_grades = []\n",
    "from typing import List\n",
    "\n",
    "def mean_formatter(grades:List[float]):\n",
    "    try:\n",
    "        grade = mean(grades)\n",
    "    except StatisticsError:\n",
    "        print(\"Error: Class grades empty\")\n",
    "        exit()\n",
    "\n",
    "    try:\n",
    "        return grade_format(grade)\n",
    "    except ValueError:\n",
    "        print(\"Error: Class avg was either below 0 or above 100\")\n",
    "        exit()\n",
    "\n",
    "print(f\"Class A Avg: {mean_formatter(classA_grades)}\")\n",
    "print(f\"Class B Avg: {mean_formatter(classB_grades)}\")\n",
    "print(f\"Class C Avg: {mean_formatter(classC_grades)}\")\n",
    "\n",
    "\n",
    "\n",
    "\n",
    "# try:\n",
    "#     avg_classB = mean(classB_grades)\n",
    "# except StatisticsError:\n",
    "#     print(\"Error: Class B grades empty\")\n",
    "#     exit()\n",
    "\n",
    "# try:\n",
    "#     avg_classB_formatted = grade_format(avg_classB)\n",
    "# except ValueError:\n",
    "#     print(\"Error: Class B avg was either below 0 or above 100\")\n",
    "#     exit()\n",
    "\n",
    "# print(f\"Class B Avg: {avg_classB_formatted}\")\n",
    "\n",
    "# try:\n",
    "#     avg_classC = mean(classC_grades)\n",
    "# except StatisticsError:\n",
    "#     print(\"Error: Class C grades empty\")\n",
    "#     exit()\n",
    "\n",
    "# try:\n",
    "#     avg_classC_formatted = grade_format(avg_classC)\n",
    "# except ValueError:\n",
    "#     print(\"Error: Class C avg was either below 0 or above 100\")\n",
    "#     exit()\n",
    "\n",
    "# print(f\"Class C Avg: {avg_classC_formatted}\")\n"
   ]
  },
  {
   "cell_type": "markdown",
   "id": "8b7ad4b7",
   "metadata": {},
   "source": [
    "### W/ Functions"
   ]
  },
  {
   "cell_type": "code",
   "execution_count": null,
   "id": "8d53a7d6",
   "metadata": {},
   "outputs": [],
   "source": [
    "\n",
    "from typing import List\n",
    "\n",
    "def grades_avg_formatter(grades: List[float]) -> str | None:\n",
    "    try:\n",
    "        avg_grades = mean(grades)\n",
    "    except StatisticsError:\n",
    "        return None\n",
    "    try:\n",
    "        avg_grade_formatted = grade_format(avg_grades)\n",
    "    except ValueError:\n",
    "        return None\n",
    "    return avg_grade_formatted\n",
    "\n",
    "\n",
    "\n",
    "a_grade = grades_avg_formatter(classA_grades)\n",
    "if a_grade:\n",
    "    print(f\"Class A Avg: {a_grade}\")\n",
    "\n",
    "b_grade = grades_avg_formatter(classB_grades)\n",
    "if b_grade:\n",
    "    print(f\"Class B Avg: {b_grade}\")\n",
    "\n",
    "c_grade = grades_avg_formatter(classC_grades)\n",
    "if c_grade:\n",
    "    print(f\"Class C Avg: {c_grade}\")\n"
   ]
  },
  {
   "cell_type": "markdown",
   "id": "de3b794c",
   "metadata": {},
   "source": [
    "## Function Definitions"
   ]
  },
  {
   "cell_type": "code",
   "execution_count": null,
   "id": "2b0d0537",
   "metadata": {},
   "outputs": [],
   "source": [
    "def print_hi():\n",
    "    print(\"Hi\")\n",
    "\n"
   ]
  },
  {
   "cell_type": "markdown",
   "id": "0faae5b8",
   "metadata": {},
   "source": [
    "## Function Args"
   ]
  },
  {
   "cell_type": "code",
   "execution_count": 1,
   "id": "bbd6b733",
   "metadata": {},
   "outputs": [
    {
     "name": "stdout",
     "output_type": "stream",
     "text": [
      "85 + 2 = 87\n",
      "None\n"
     ]
    },
    {
     "ename": "TypeError",
     "evalue": "can only concatenate str (not \"int\") to str",
     "output_type": "error",
     "traceback": [
      "\u001b[31m---------------------------------------------------------------------------\u001b[39m",
      "\u001b[31mTypeError\u001b[39m                                 Traceback (most recent call last)",
      "\u001b[36mCell\u001b[39m\u001b[36m \u001b[39m\u001b[32mIn[1]\u001b[39m\u001b[32m, line 5\u001b[39m\n\u001b[32m      2\u001b[39m     \u001b[38;5;28mprint\u001b[39m(\u001b[33mf\u001b[39m\u001b[33m\"\u001b[39m\u001b[38;5;132;01m{\u001b[39;00mx\u001b[38;5;132;01m}\u001b[39;00m\u001b[33m + 2 = \u001b[39m\u001b[38;5;132;01m{\u001b[39;00mx\u001b[38;5;250m \u001b[39m+\u001b[38;5;250m \u001b[39m\u001b[32m2\u001b[39m\u001b[38;5;132;01m}\u001b[39;00m\u001b[33m\"\u001b[39m)\n\u001b[32m      4\u001b[39m \u001b[38;5;28mprint\u001b[39m(add_two(\u001b[32m85\u001b[39m))\n\u001b[32m----> \u001b[39m\u001b[32m5\u001b[39m \u001b[38;5;28mprint\u001b[39m(\u001b[43madd_two\u001b[49m\u001b[43m(\u001b[49m\u001b[33;43m\"\u001b[39;49m\u001b[33;43mHi\u001b[39;49m\u001b[33;43m\"\u001b[39;49m\u001b[43m)\u001b[49m)\n",
      "\u001b[36mCell\u001b[39m\u001b[36m \u001b[39m\u001b[32mIn[1]\u001b[39m\u001b[32m, line 2\u001b[39m, in \u001b[36madd_two\u001b[39m\u001b[34m(x)\u001b[39m\n\u001b[32m      1\u001b[39m \u001b[38;5;28;01mdef\u001b[39;00m\u001b[38;5;250m \u001b[39m\u001b[34madd_two\u001b[39m(x:\u001b[38;5;28mint\u001b[39m):\n\u001b[32m----> \u001b[39m\u001b[32m2\u001b[39m     \u001b[38;5;28mprint\u001b[39m(\u001b[33mf\u001b[39m\u001b[33m\"\u001b[39m\u001b[38;5;132;01m{\u001b[39;00mx\u001b[38;5;132;01m}\u001b[39;00m\u001b[33m + 2 = \u001b[39m\u001b[38;5;132;01m{\u001b[39;00m\u001b[43mx\u001b[49m\u001b[38;5;250;43m \u001b[39;49m\u001b[43m+\u001b[49m\u001b[38;5;250;43m \u001b[39;49m\u001b[32;43m2\u001b[39;49m\u001b[38;5;132;01m}\u001b[39;00m\u001b[33m\"\u001b[39m)\n",
      "\u001b[31mTypeError\u001b[39m: can only concatenate str (not \"int\") to str"
     ]
    }
   ],
   "source": [
    "def add_two(x:int):\n",
    "    print(f\"{x} + 2 = {x + 2}\")\n",
    "\n",
    "print(add_two(85))\n",
    "print(add_two(\"Hi\"))"
   ]
  },
  {
   "cell_type": "markdown",
   "id": "7ef4d949",
   "metadata": {},
   "source": [
    "## Function Returns"
   ]
  },
  {
   "cell_type": "code",
   "execution_count": null,
   "id": "d1e3972f",
   "metadata": {},
   "outputs": [
    {
     "ename": "TypeError",
     "evalue": "add() missing 1 required positional argument: 'z'",
     "output_type": "error",
     "traceback": [
      "\u001b[31m---------------------------------------------------------------------------\u001b[39m",
      "\u001b[31mTypeError\u001b[39m                                 Traceback (most recent call last)",
      "\u001b[36mCell\u001b[39m\u001b[36m \u001b[39m\u001b[32mIn[13]\u001b[39m\u001b[32m, line 5\u001b[39m\n\u001b[32m      2\u001b[39m     \u001b[38;5;28;01mreturn\u001b[39;00m x+y+ z\n\u001b[32m      4\u001b[39m a,b, c = \u001b[32m49324\u001b[39m, \u001b[32m23431254\u001b[39m, \u001b[32m3456789098765432\u001b[39m\n\u001b[32m----> \u001b[39m\u001b[32m5\u001b[39m \u001b[38;5;28mprint\u001b[39m(\u001b[33mf\u001b[39m\u001b[33m\"\u001b[39m\u001b[38;5;132;01m{\u001b[39;00ma\u001b[38;5;132;01m}\u001b[39;00m\u001b[33m + \u001b[39m\u001b[38;5;132;01m{\u001b[39;00mb\u001b[38;5;132;01m}\u001b[39;00m\u001b[33m + \u001b[39m\u001b[38;5;132;01m{\u001b[39;00mc\u001b[38;5;132;01m}\u001b[39;00m\u001b[33m= \u001b[39m\u001b[38;5;132;01m{\u001b[39;00m\u001b[43madd\u001b[49m\u001b[43m(\u001b[49m\u001b[43ma\u001b[49m\u001b[43m,\u001b[49m\u001b[43mb\u001b[49m\u001b[43m)\u001b[49m\u001b[38;5;132;01m}\u001b[39;00m\u001b[33m\"\u001b[39m ) \n",
      "\u001b[31mTypeError\u001b[39m: add() missing 1 required positional argument: 'z'"
     ]
    }
   ],
   "source": [
    "def add(x,y,z, i):\n",
    "    return x+y+ z + i\n",
    "\n",
    "a,b, c, d = 49324, 23431254, 3456789098765432, 1\n",
    "print(f\"{a} + {b} + {c}= {add(a,b,c, d)}\" ) \n",
    "\n"
   ]
  },
  {
   "cell_type": "markdown",
   "id": "9600846c",
   "metadata": {},
   "source": [
    "## Function Args & Returns w/ Typing"
   ]
  },
  {
   "cell_type": "code",
   "execution_count": null,
   "id": "47f51019",
   "metadata": {},
   "outputs": [
    {
     "name": "stdout",
     "output_type": "stream",
     "text": [
      "ctfgvhbjnk!\n"
     ]
    }
   ],
   "source": [
    "\n",
    "# def add_float(x:int, y:int) -> float:\n",
    "#     return int(x + y)\n",
    "\n",
    "# a,b = 1.0, .333333\n",
    "\n",
    "# print(add_float(a, b))\n",
    "\n",
    "# print(add_float(int(a), int(b)))\n",
    "\n",
    "# Showing Docstring/Dot method for str param\n",
    "def isprintable(x) -> bool:\n",
    "    return x.isalnum() \n",
    "    \n",
    "\n",
    "str_1 = \"ctfgvhbjnk!\"\n",
    "if isprintable(str_1):\n",
    "    print(str_1)"
   ]
  },
  {
   "cell_type": "markdown",
   "id": "24706db8",
   "metadata": {},
   "source": [
    "## None Type"
   ]
  },
  {
   "cell_type": "code",
   "execution_count": null,
   "id": "793f0599",
   "metadata": {},
   "outputs": [
    {
     "ename": "",
     "evalue": "",
     "output_type": "error",
     "traceback": [
      "\u001b[1;31mThe Kernel crashed while executing code in the current cell or a previous cell. \n",
      "\u001b[1;31mPlease review the code in the cell(s) to identify a possible cause of the failure. \n",
      "\u001b[1;31mClick <a href='https://aka.ms/vscodeJupyterKernelCrash'>here</a> for more info. \n",
      "\u001b[1;31mView Jupyter <a href='command:jupyter.viewOutput'>log</a> for further details."
     ]
    }
   ],
   "source": [
    "def return_gt_zero(x: int|float) -> None | int | float:\n",
    "    if x > 0:\n",
    "        return x\n",
    "    else:\n",
    "        return None\n",
    "    \n",
    "\n",
    "# out = return_gt_zero(-1)\n",
    "out = return_gt_zero(-1)\n",
    "if out :\n",
    "    print(out + 1)\n",
    "else: \n",
    "    exit()\n",
    "# # Usually used in User Input Validation functions for this class\n",
    "# try:\n",
    "#     x = float(input(\"enter a num: \"))\n",
    "# except ValueError:\n",
    "#     print(\"Bad input\")\n",
    "#     exit()\n",
    "\n",
    "# x2 = return_gt_zero(x) # Can return None\n",
    "# print(f\"Your input plus 1 is: {x2+1}\")"
   ]
  },
  {
   "cell_type": "markdown",
   "id": "0aeb55be",
   "metadata": {},
   "source": [
    "## Functions for user input validation using try-except"
   ]
  },
  {
   "cell_type": "code",
   "execution_count": null,
   "id": "1dd58e01",
   "metadata": {},
   "outputs": [],
   "source": [
    "def get_positive_int(question: str) -> int | None:\n",
    "    \"\"\"\n",
    "    Asks a user a question, gets input from the user, and returns the input if its a positive integer.\n",
    "    If they enter anything besides a positive integer, None is returned\n",
    "\n",
    "    Args:\n",
    "        question (str): Question a user is prompted with\n",
    "\n",
    "    Returns:\n",
    "        (int | None) -> Integer if user input is a positive integer, else None\n",
    "    \"\"\"\n",
    "    try:\n",
    "        user_in = int(input(question))\n",
    "    except ValueError:\n",
    "        return None\n",
    "    if user_in > 0:\n",
    "        return user_in\n",
    "    else:\n",
    "        return None\n",
    "    \n",
    "\n",
    "num1 = get_positive_int(\"Please enter a positive integer: \")\n",
    "\n",
    "if num1: \n",
    "    print(f\"The positive integer you entered was: {num1}\")\n",
    "else:\n",
    "    print(\"You entered a bad input!\")\n",
    "\n",
    "num2 = get_positive_int(\"Please enter a positive integer: \")\n",
    "num3 = get_positive_int(\"Please enter a positive integer: \")\n",
    "num4 = get_positive_int(\"Please enter a positive integer: \")\n",
    "\n",
    "\n",
    "\n",
    "\n",
    "\n",
    "\n",
    "\n",
    "\n",
    "\n",
    "\n",
    "\n",
    "\n",
    "\n",
    "\n",
    "\n",
    "\n",
    "def print_pos_int(x:int | None) -> None:\n",
    "    if x: \n",
    "        print(f\"The positive integer you entered was: {x}\")\n",
    "    else:\n",
    "        print(\"You entered a bad input!\")\n",
    "\n",
    "print_pos_int(num2)\n",
    "print_pos_int(num3)\n",
    "print_pos_int(num4)\n"
   ]
  },
  {
   "cell_type": "markdown",
   "id": "3d649d2f",
   "metadata": {},
   "source": [
    "## Test Functions in CodeSpaces"
   ]
  },
  {
   "cell_type": "markdown",
   "id": "4986e578",
   "metadata": {},
   "source": [
    "## In-Class Example"
   ]
  },
  {
   "cell_type": "code",
   "execution_count": null,
   "id": "58374c1e",
   "metadata": {},
   "outputs": [],
   "source": [
    "# Making a Input Validated for allowing negative multiples of three bounded by a & b inclusively\n",
    "# Takes in 3 args (str, float, float)\n",
    "# Returns float\n",
    "mult_three_neg(\"Enter a number: \", -20, -2)"
   ]
  },
  {
   "cell_type": "markdown",
   "id": "7011ad65",
   "metadata": {},
   "source": [
    "### My Version"
   ]
  },
  {
   "cell_type": "code",
   "execution_count": null,
   "id": "452b312b",
   "metadata": {},
   "outputs": [],
   "source": [
    "# Making a Input Validated for allowing negative multiples of three bounded by a & b inclusively\n",
    "\n",
    "\n",
    "def mult_three_neg(prompt: str, lower:float, upper:float) -> float | None:\n",
    "    \"\"\"\n",
    "    Asks a user a question, gets input from the user, and returns the input if its a negative float divisble by three within the bounds.\n",
    "    If they enter anything else is entered, None is returned\n",
    "\n",
    "    Args:\n",
    "        question (str): Question a user is prompted with\n",
    "        lower (float): Lower bounds of acceptable answer\n",
    "        upper (float): Upper bounds of acceptable answer\n",
    "\n",
    "    Returns:\n",
    "        (float | None) -> Float if user input is validr, else None\n",
    "    \"\"\"\n",
    "    try:\n",
    "        num = float(input(prompt))\n",
    "    except ValueError:\n",
    "        print(\"Non-valid input\")\n",
    "        return None\n",
    "    if num < 0 and num % 3 == 0 and lower <= num <= upper:\n",
    "        return num\n",
    "    else:\n",
    "        print(\"Non-valid input\")\n",
    "        return None\n",
    "\n",
    "\n",
    "val = mult_three_neg(\"Enter a number: \", -20, -2)\n",
    "if val:\n",
    "    print(f\"{val} is negative, bounded by -20 & -2 and was a multple of three\")"
   ]
  },
  {
   "cell_type": "markdown",
   "id": "ec6249c4",
   "metadata": {},
   "source": [
    "## User Input Validation w/ Any Type"
   ]
  },
  {
   "cell_type": "markdown",
   "id": "b21d706b",
   "metadata": {},
   "source": [
    "Created by Seth Barrett | 2025"
   ]
  }
 ],
 "metadata": {
  "kernelspec": {
   "display_name": "inclasscode",
   "language": "python",
   "name": "python3"
  },
  "language_info": {
   "codemirror_mode": {
    "name": "ipython",
    "version": 3
   },
   "file_extension": ".py",
   "mimetype": "text/x-python",
   "name": "python",
   "nbconvert_exporter": "python",
   "pygments_lexer": "ipython3",
   "version": "3.11.1"
  }
 },
 "nbformat": 4,
 "nbformat_minor": 5
}
