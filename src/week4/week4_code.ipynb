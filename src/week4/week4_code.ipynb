{
 "cells": [
  {
   "cell_type": "markdown",
   "id": "5658d019",
   "metadata": {},
   "source": [
    "# In Class Examples | Week 4 | AIST 2110 | Conditional Execution"
   ]
  },
  {
   "cell_type": "markdown",
   "id": "8e4d1cce",
   "metadata": {},
   "source": [
    "## Review"
   ]
  },
  {
   "cell_type": "code",
   "execution_count": null,
   "id": "3fcc597a",
   "metadata": {},
   "outputs": [
    {
     "name": "stdout",
     "output_type": "stream",
     "text": [
      "test\n",
      "Hello,seth!\n",
      "Your weight on the Moon is 1.98 N\n"
     ]
    }
   ],
   "source": [
    "print(\"test\")\n",
    "name = input(\"Enter your name: \")\n",
    "print(\"Hello, \" + name + \"!\")\n",
    "\n",
    "print(f\"Your weight on the Moon is {int(input('Enter your mass in kg: ')) * 0.165} N\")"
   ]
  },
  {
   "cell_type": "code",
   "execution_count": null,
   "id": "251111e2",
   "metadata": {},
   "outputs": [],
   "source": [
    "! git commit -a -m \"Commitng all changes\"; git push"
   ]
  },
  {
   "cell_type": "markdown",
   "id": "de3b794c",
   "metadata": {},
   "source": [
    "## Modulo Condition"
   ]
  },
  {
   "cell_type": "code",
   "execution_count": null,
   "id": "ec148e21",
   "metadata": {},
   "outputs": [
    {
     "name": "stdout",
     "output_type": "stream",
     "text": [
      "3 is divisible by 3\n"
     ]
    }
   ],
   "source": [
    "x = int(input(\"Enter a number: \"))\n",
    "\n",
    "if x % 3 == 0:\n",
    "    print(f\"{x} is divisible by 3\")\n",
    "else:\n",
    "    print(f\"{x} is not divisible by 3\")"
   ]
  },
  {
   "cell_type": "markdown",
   "id": "5bce6b08",
   "metadata": {},
   "source": [
    "## Equivilance Condition with Strings"
   ]
  },
  {
   "cell_type": "code",
   "execution_count": null,
   "id": "2b0d0537",
   "metadata": {},
   "outputs": [
    {
     "name": "stdout",
     "output_type": "stream",
     "text": [
      "abc is less than xyz\n"
     ]
    }
   ],
   "source": [
    "name1 = input(\"Enter a name: \")\n",
    "name2 = input(\"Enter another name: \")\n",
    "if name1 == name2:\n",
    "    print(\"The names are the same\")\n",
    "elif name1 != name2:\n",
    "    print(\"The names are different (elif)\")\n",
    "else:\n",
    "    print(\"The names are different\")\n",
    "\n",
    "# x = \"abc\"\n",
    "# y = \"xyz\"\n",
    "# if x > y:\n",
    "#     print(f\"{x} is greater than {y}\")\n",
    "# elif x < y:\n",
    "#     print(f\"{x} is less than {y}\")\n",
    "# else:\n",
    "#     print(f\"{x} is equal to {y}\")"
   ]
  },
  {
   "cell_type": "markdown",
   "id": "ef291356",
   "metadata": {},
   "source": [
    "## Greater and Less Than Conditions with Numbers "
   ]
  },
  {
   "cell_type": "code",
   "execution_count": null,
   "id": "d043cd3d",
   "metadata": {},
   "outputs": [
    {
     "name": "stdout",
     "output_type": "stream",
     "text": [
      "It's freezing!\n"
     ]
    }
   ],
   "source": [
    "temp = int(input(\"Enter the temperature in Fahrenheit: \"))\n",
    "\n",
    "if temp < 32:\n",
    "    if temp < 0:\n",
    "        print(\"Brrr, it's really cold!\")\n",
    "    else:\n",
    "        print(\"It's freezing!\")\n",
    "elif temp > 212:\n",
    "    print(\"It's boiling!\")\n",
    "else:\n",
    "    print(\"It's just right.\")\n"
   ]
  },
  {
   "cell_type": "markdown",
   "id": "758a88a9",
   "metadata": {},
   "source": [
    "## Greater and Less Than Conditions with Numbers Continued"
   ]
  },
  {
   "cell_type": "code",
   "execution_count": null,
   "id": "e7ce0411",
   "metadata": {},
   "outputs": [
    {
     "name": "stdout",
     "output_type": "stream",
     "text": [
      "The candidate loses.\n"
     ]
    },
    {
     "ename": "ValueError",
     "evalue": "invalid literal for int() with base 10: ''",
     "output_type": "error",
     "traceback": [
      "\u001b[31m---------------------------------------------------------------------------\u001b[39m",
      "\u001b[31mValueError\u001b[39m                                Traceback (most recent call last)",
      "\u001b[36mCell\u001b[39m\u001b[36m \u001b[39m\u001b[32mIn[12]\u001b[39m\u001b[32m, line 9\u001b[39m\n\u001b[32m      6\u001b[39m     \u001b[38;5;28mprint\u001b[39m(\u001b[33m\"\u001b[39m\u001b[33mThe candidate loses.\u001b[39m\u001b[33m\"\u001b[39m)\n\u001b[32m      7\u001b[39m \u001b[38;5;28minput\u001b[39m() \u001b[38;5;66;03m# Wait\u001b[39;00m\n\u001b[32m----> \u001b[39m\u001b[32m9\u001b[39m candA_votes = \u001b[38;5;28;43mint\u001b[39;49m\u001b[43m(\u001b[49m\u001b[38;5;28;43minput\u001b[39;49m\u001b[43m(\u001b[49m\u001b[33;43m\"\u001b[39;49m\u001b[33;43mEnter the number of votes for Candidate A: \u001b[39;49m\u001b[33;43m\"\u001b[39;49m\u001b[43m)\u001b[49m\u001b[43m)\u001b[49m\n\u001b[32m     10\u001b[39m candB_votes = \u001b[38;5;28mint\u001b[39m(\u001b[38;5;28minput\u001b[39m(\u001b[33m\"\u001b[39m\u001b[33mEnter the number of votes for Candidate B: \u001b[39m\u001b[33m\"\u001b[39m))\n\u001b[32m     11\u001b[39m candC_votes = \u001b[38;5;28mint\u001b[39m(\u001b[38;5;28minput\u001b[39m(\u001b[33m\"\u001b[39m\u001b[33mEnter the number of votes for Candidate C: \u001b[39m\u001b[33m\"\u001b[39m))\n",
      "\u001b[31mValueError\u001b[39m: invalid literal for int() with base 10: ''"
     ]
    }
   ],
   "source": [
    "# x = 33\n",
    "# y = int(31 /2 )\n",
    "# print(y)\n",
    "\n",
    "\n",
    "\n",
    "num_votes = int(input(\"Enter the number of votes: \"))\n",
    "num_voters = int(input(\"Enter the number of voters: \"))\n",
    "if num_votes > num_voters / 2:\n",
    "    print(\"The candidate wins!\")\n",
    "else:\n",
    "    print(\"The candidate loses.\")\n",
    "input() # Wait\n",
    "\n",
    "candA_votes = int(input(\"Enter the number of votes for Candidate A: \"))\n",
    "candB_votes = int(input(\"Enter the number of votes for Candidate B: \"))\n",
    "candC_votes = int(input(\"Enter the number of votes for Candidate C: \"))\n",
    "if candA_votes > num_voters / 2:\n",
    "    print(\"Candidate A wins!\")\n",
    "elif candB_votes > num_voters / 2:\n",
    "    print(\"Candidate B wins!\")\n",
    "elif candC_votes > num_voters / 2:\n",
    "    print(\"Candidate C wins!\")\n",
    "\n",
    "print(\"Uh what happens now?\")"
   ]
  },
  {
   "cell_type": "markdown",
   "id": "b21d706b",
   "metadata": {},
   "source": [
    "Created by Seth Barrett | 2025"
   ]
  }
 ],
 "metadata": {
  "kernelspec": {
   "display_name": "inclasscode",
   "language": "python",
   "name": "python3"
  },
  "language_info": {
   "codemirror_mode": {
    "name": "ipython",
    "version": 3
   },
   "file_extension": ".py",
   "mimetype": "text/x-python",
   "name": "python",
   "nbconvert_exporter": "python",
   "pygments_lexer": "ipython3",
   "version": "3.11.1"
  }
 },
 "nbformat": 4,
 "nbformat_minor": 5
}
