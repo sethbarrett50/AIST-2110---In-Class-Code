{
 "cells": [
  {
   "cell_type": "markdown",
   "id": "5658d019",
   "metadata": {},
   "source": [
    "# In Class Examples | Week 4 | AIST 2110 | Conditional Execution"
   ]
  },
  {
   "cell_type": "markdown",
   "id": "8e4d1cce",
   "metadata": {},
   "source": [
    "## Review"
   ]
  },
  {
   "cell_type": "code",
   "execution_count": 2,
   "id": "3fcc597a",
   "metadata": {},
   "outputs": [
    {
     "name": "stdout",
     "output_type": "stream",
     "text": [
      "test\n",
      "Hello, bruh!\n",
      " Your weight on the Moon is 33.0 N\n"
     ]
    }
   ],
   "source": [
    "print(\"test\")\n",
    "name = input(\"Enter your name: \")\n",
    "print(\"Hello, \" + name + \"!\")\n",
    "\n",
    "mass = int(input(\"Enter your mass in kg: \"))\n",
    "print(f\" Your weight on the Moon is {mass * 0.165} N\")"
   ]
  },
  {
   "cell_type": "markdown",
   "id": "de3b794c",
   "metadata": {},
   "source": [
    "## Modulo Condition"
   ]
  },
  {
   "cell_type": "code",
   "execution_count": 3,
   "id": "ec148e21",
   "metadata": {},
   "outputs": [
    {
     "name": "stdout",
     "output_type": "stream",
     "text": [
      "55 is not divisible by 3\n"
     ]
    }
   ],
   "source": [
    "x = int(input(\"Enter a number: \"))\n",
    "\n",
    "if x % 3 == 0:\n",
    "    print(f\"{x} is divisible by 3\")\n",
    "else:\n",
    "    print(f\"{x} is not divisible by 3\")"
   ]
  },
  {
   "cell_type": "markdown",
   "id": "5bce6b08",
   "metadata": {},
   "source": [
    "## Equivilance Condition with Strings"
   ]
  },
  {
   "cell_type": "code",
   "execution_count": 4,
   "id": "2b0d0537",
   "metadata": {},
   "outputs": [
    {
     "name": "stdout",
     "output_type": "stream",
     "text": [
      "The names are the same\n"
     ]
    }
   ],
   "source": [
    "name1 = input(\"Enter a name: \")\n",
    "name2 = input(\"Enter another name: \")\n",
    "if name1 == name2:\n",
    "    print(\"The names are the same\")\n",
    "else:\n",
    "    print(\"The names are different\")"
   ]
  },
  {
   "cell_type": "markdown",
   "id": "ef291356",
   "metadata": {},
   "source": [
    "## Greater and Less Than Conditions with Numbers "
   ]
  },
  {
   "cell_type": "code",
   "execution_count": 5,
   "id": "d043cd3d",
   "metadata": {},
   "outputs": [
    {
     "name": "stdout",
     "output_type": "stream",
     "text": [
      "It's just right.\n"
     ]
    }
   ],
   "source": [
    "temp = int(input(\"Enter the temperature in Fahrenheit: \"))\n",
    "\n",
    "if temp < 32:\n",
    "    if temp < 0:\n",
    "        print(\"Brrr, it's really cold!\")\n",
    "    else:\n",
    "        print(\"It's freezing!\")\n",
    "elif temp > 212:\n",
    "    print(\"It's boiling!\")\n",
    "else:\n",
    "    print(\"It's just right.\")\n"
   ]
  },
  {
   "cell_type": "markdown",
   "id": "758a88a9",
   "metadata": {},
   "source": [
    "## Greater and Less Than Conditions with Numbers Continued"
   ]
  },
  {
   "cell_type": "code",
   "execution_count": 6,
   "id": "e7ce0411",
   "metadata": {},
   "outputs": [
    {
     "name": "stdout",
     "output_type": "stream",
     "text": [
      "The candidate wins!\n",
      "Candidate B wins!\n",
      "Uh what happens now?\n"
     ]
    }
   ],
   "source": [
    "num_votes = int(input(\"Enter the number of votes: \"))\n",
    "num_voters = int(input(\"Enter the number of voters: \"))\n",
    "if num_votes > num_voters / 2:\n",
    "    print(\"The candidate wins!\")\n",
    "else:\n",
    "    print(\"The candidate loses.\")\n",
    "input() # Wait\n",
    "\n",
    "candA_votes = int(input(\"Enter the number of votes for Candidate A: \"))\n",
    "candB_votes = int(input(\"Enter the number of votes for Candidate B: \"))\n",
    "candC_votes = int(input(\"Enter the number of votes for Candidate C: \"))\n",
    "if candA_votes > num_voters / 2:\n",
    "    print(\"Candidate A wins!\")\n",
    "elif candB_votes > num_voters / 2:\n",
    "    print(\"Candidate B wins!\")\n",
    "elif candC_votes > num_voters / 2:\n",
    "    print(\"Candidate C wins!\")\n",
    "\n",
    "print(\"Uh what happens now?\")"
   ]
  },
  {
   "cell_type": "markdown",
   "id": "b21d706b",
   "metadata": {},
   "source": [
    "Created by Seth Barrett | 2025"
   ]
  }
 ],
 "metadata": {
  "kernelspec": {
   "display_name": "inclasscode",
   "language": "python",
   "name": "python3"
  },
  "language_info": {
   "codemirror_mode": {
    "name": "ipython",
    "version": 3
   },
   "file_extension": ".py",
   "mimetype": "text/x-python",
   "name": "python",
   "nbconvert_exporter": "python",
   "pygments_lexer": "ipython3",
   "version": "3.11.1"
  }
 },
 "nbformat": 4,
 "nbformat_minor": 5
}
