{
 "cells": [
  {
   "cell_type": "markdown",
   "id": "5658d019",
   "metadata": {},
   "source": [
    "# In Class Examples | Week 4 | AIST 2110 | Conditional Execution"
   ]
  },
  {
   "cell_type": "markdown",
   "id": "8e4d1cce",
   "metadata": {},
   "source": [
    "## Review"
   ]
  },
  {
   "cell_type": "code",
   "execution_count": null,
   "id": "3fcc597a",
   "metadata": {},
   "outputs": [
    {
     "name": "stdout",
     "output_type": "stream",
     "text": [
      "test\n",
      "Hello,seth!\n",
      "Your weight on the Moon is 1.98 N\n"
     ]
    }
   ],
   "source": [
    "print(\"test\")\n",
    "name = input(\"Enter your name: \")\n",
    "print(\"Hello, \" + name + \"!\")\n",
    "\n",
    "print(f\"Your weight on the Moon is {int(input('Enter your mass in kg: ')) * 0.165} N\")"
   ]
  },
  {
   "cell_type": "code",
   "execution_count": 18,
   "id": "251111e2",
   "metadata": {},
   "outputs": [
    {
     "name": "stdout",
     "output_type": "stream",
     "text": [
      "[main 80ad3b6] Commitng all changes\n",
      " 1 file changed, 69 insertions(+), 9 deletions(-)\n",
      "Enumerating objects: 9, done.\n",
      "Counting objects: 100% (9/9), done.\n",
      "Delta compression using up to 10 threads\n",
      "Compressing objects: 100% (4/4), done.\n",
      "Writing objects: 100% (5/5), 1.12 KiB | 1.12 MiB/s, done.\n",
      "Total 5 (delta 3), reused 0 (delta 0), pack-reused 0\n",
      "remote: Resolving deltas: 100% (3/3), completed with 3 local objects.\u001b[K\n",
      "To https://github.com/sethbarrett50/AIST-2110---In-Class-Code.git\n",
      "   e09f2dc..80ad3b6  main -> main\n"
     ]
    }
   ],
   "source": [
    "! git commit -a -m \"Commitng all changes\"; git push"
   ]
  },
  {
   "cell_type": "markdown",
   "id": "de3b794c",
   "metadata": {},
   "source": [
    "## Modulo Condition"
   ]
  },
  {
   "cell_type": "code",
   "execution_count": 21,
   "id": "ec148e21",
   "metadata": {},
   "outputs": [
    {
     "name": "stdout",
     "output_type": "stream",
     "text": [
      "24 is divisible by both 3 and 8\n",
      "24 is divisible by 3\n",
      "24 is divisible by 8\n"
     ]
    }
   ],
   "source": [
    "x = int(input(\"Enter a number: \"))\n",
    "\n",
    "is_divisible_by_3 = x % 3 == 0\n",
    "is_divisible_by_8 = x % 8 == 0\n",
    "\n",
    "if is_divisible_by_3 and is_divisible_by_8:\n",
    "    print(f\"{x} is divisible by both 3 and 8\")\n",
    "if is_divisible_by_3:\n",
    "    print(f\"{x} is divisible by 3\")\n",
    "if is_divisible_by_8:\n",
    "    print(f\"{x} is divisible by 8\")\n",
    "else:\n",
    "    print(f\"{x} is not divisible by 3 or 8\")"
   ]
  },
  {
   "cell_type": "markdown",
   "id": "5bce6b08",
   "metadata": {},
   "source": [
    "## Equivilance Condition with Strings"
   ]
  },
  {
   "cell_type": "code",
   "execution_count": 25,
   "id": "2b0d0537",
   "metadata": {},
   "outputs": [
    {
     "name": "stdout",
     "output_type": "stream",
     "text": [
      "abc is less than xyz\n"
     ]
    }
   ],
   "source": [
    "# name1 = input(\"Enter a name: \")\n",
    "# name2 = input(\"Enter another name: \")\n",
    "# if name1 == name2:\n",
    "#     print(\"The names are the same\")\n",
    "# elif not (name1 == name2):\n",
    "#     print(\"The names are different (elif)\")\n",
    "# else:\n",
    "#     print(\"The names are different\")\n",
    "\n",
    "x = \"abc\"\n",
    "y = \"xyz\"\n",
    "if x > y:\n",
    "    print(f\"{x} is greater than {y}\")\n",
    "elif x < y:\n",
    "    print(f\"{x} is less than {y}\")\n",
    "else:\n",
    "    print(f\"{x} is equal to {y}\")"
   ]
  },
  {
   "cell_type": "markdown",
   "id": "ef291356",
   "metadata": {},
   "source": [
    "## Greater and Less Than Conditions with Numbers "
   ]
  },
  {
   "cell_type": "code",
   "execution_count": 29,
   "id": "d043cd3d",
   "metadata": {},
   "outputs": [
    {
     "name": "stdout",
     "output_type": "stream",
     "text": [
      "It's freezing!\n"
     ]
    }
   ],
   "source": [
    "temp = int(input(\"Enter the temperature in Fahrenheit: \"))\n",
    "\n",
    "if 0 <= temp <= 32:\n",
    "    print(\"It's freezing!\")\n",
    "elif temp <= 0:\n",
    "    print(\"Brrr, it's really cold!\")\n",
    "elif temp < 212:\n",
    "    print(\"It's just right.\")\n",
    "else:\n",
    "    print(\"It's boiling!\")\n"
   ]
  },
  {
   "cell_type": "markdown",
   "id": "758a88a9",
   "metadata": {},
   "source": [
    "## Greater and Less Than Conditions with Numbers Continued"
   ]
  },
  {
   "cell_type": "code",
   "execution_count": 31,
   "id": "e7ce0411",
   "metadata": {},
   "outputs": [
    {
     "name": "stdout",
     "output_type": "stream",
     "text": [
      "The candidate loses.\n"
     ]
    },
    {
     "ename": "ValueError",
     "evalue": "invalid literal for int() with base 10: ''",
     "output_type": "error",
     "traceback": [
      "\u001b[31m---------------------------------------------------------------------------\u001b[39m",
      "\u001b[31mValueError\u001b[39m                                Traceback (most recent call last)",
      "\u001b[36mCell\u001b[39m\u001b[36m \u001b[39m\u001b[32mIn[31]\u001b[39m\u001b[32m, line 15\u001b[39m\n\u001b[32m     12\u001b[39m     \u001b[38;5;28mprint\u001b[39m(\u001b[33m\"\u001b[39m\u001b[33mThe candidate loses.\u001b[39m\u001b[33m\"\u001b[39m)\n\u001b[32m     13\u001b[39m \u001b[38;5;28minput\u001b[39m() \u001b[38;5;66;03m# Wait\u001b[39;00m\n\u001b[32m---> \u001b[39m\u001b[32m15\u001b[39m candA_votes = \u001b[38;5;28;43mint\u001b[39;49m\u001b[43m(\u001b[49m\u001b[38;5;28;43minput\u001b[39;49m\u001b[43m(\u001b[49m\u001b[33;43m\"\u001b[39;49m\u001b[33;43mEnter the number of votes for Candidate A: \u001b[39;49m\u001b[33;43m\"\u001b[39;49m\u001b[43m)\u001b[49m\u001b[43m)\u001b[49m\n\u001b[32m     16\u001b[39m candB_votes = \u001b[38;5;28mint\u001b[39m(\u001b[38;5;28minput\u001b[39m(\u001b[33m\"\u001b[39m\u001b[33mEnter the number of votes for Candidate B: \u001b[39m\u001b[33m\"\u001b[39m))\n\u001b[32m     17\u001b[39m candC_votes = \u001b[38;5;28mint\u001b[39m(\u001b[38;5;28minput\u001b[39m(\u001b[33m\"\u001b[39m\u001b[33mEnter the number of votes for Candidate C: \u001b[39m\u001b[33m\"\u001b[39m))\n",
      "\u001b[31mValueError\u001b[39m: invalid literal for int() with base 10: ''"
     ]
    }
   ],
   "source": [
    "# x = 33\n",
    "# y = int(31 /2 )\n",
    "# print(y)\n",
    "\n",
    "\n",
    "\n",
    "num_votes = int(input(\"Enter the number of votes: \"))\n",
    "num_voters = int(input(\"Enter the number of voters: \"))\n",
    "if num_votes > (num_voters / 2):\n",
    "    print(\"The candidate wins!\")\n",
    "else:\n",
    "    print(\"The candidate loses.\")\n",
    "input() # Wait\n",
    "\n",
    "candA_votes = int(input(\"Enter the number of votes for Candidate A: \"))\n",
    "candB_votes = int(input(\"Enter the number of votes for Candidate B: \"))\n",
    "candC_votes = int(input(\"Enter the number of votes for Candidate C: \"))\n",
    "if candA_votes > num_voters / 2:\n",
    "    print(\"Candidate A wins!\")\n",
    "elif candB_votes > num_voters / 2:\n",
    "    print(\"Candidate B wins!\")\n",
    "elif candC_votes > num_voters / 2:\n",
    "    print(\"Candidate C wins!\")\n",
    "\n",
    "print(\"Uh what happens now?\")"
   ]
  },
  {
   "cell_type": "markdown",
   "id": "b21d706b",
   "metadata": {},
   "source": [
    "Created by Seth Barrett | 2025"
   ]
  }
 ],
 "metadata": {
  "kernelspec": {
   "display_name": "inclasscode",
   "language": "python",
   "name": "python3"
  },
  "language_info": {
   "codemirror_mode": {
    "name": "ipython",
    "version": 3
   },
   "file_extension": ".py",
   "mimetype": "text/x-python",
   "name": "python",
   "nbconvert_exporter": "python",
   "pygments_lexer": "ipython3",
   "version": "3.11.1"
  }
 },
 "nbformat": 4,
 "nbformat_minor": 5
}
