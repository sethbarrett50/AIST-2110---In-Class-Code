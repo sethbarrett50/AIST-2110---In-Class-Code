{
 "cells": [
  {
   "cell_type": "markdown",
   "id": "5658d019",
   "metadata": {},
   "source": [
    "# In Class Examples | Week 3 | AIST 2110 | Python Basics"
   ]
  },
  {
   "cell_type": "markdown",
   "id": "8e4d1cce",
   "metadata": {},
   "source": [
    "## Review"
   ]
  },
  {
   "cell_type": "code",
   "execution_count": null,
   "id": "3fcc597a",
   "metadata": {},
   "outputs": [],
   "source": [
    "! git commit -a -m \"Week 3 added\"\n",
    "! git push\n",
    "\n",
    "! ls -la\n",
    "! cd .. ; ls -la"
   ]
  },
  {
   "cell_type": "markdown",
   "id": "de3b794c",
   "metadata": {},
   "source": [
    "## Printing"
   ]
  },
  {
   "cell_type": "code",
   "execution_count": null,
   "id": "ec148e21",
   "metadata": {},
   "outputs": [],
   "source": [
    "print(\"Hello world\")\n",
    "\n",
    "print('Hello world')"
   ]
  },
  {
   "cell_type": "markdown",
   "id": "5bce6b08",
   "metadata": {},
   "source": [
    "## Variables"
   ]
  },
  {
   "cell_type": "code",
   "execution_count": null,
   "id": "2b0d0537",
   "metadata": {},
   "outputs": [],
   "source": [
    "str_ex = \"This is a string\"\n",
    "type(str_ex)\n",
    "\n",
    "int_ex = 5\n",
    "type(int_ex)\n",
    "\n",
    "float_ex = 5.0\n",
    "type(float_ex)\n",
    "\n",
    "bool_ex = True\n",
    "type(bool_ex)"
   ]
  },
  {
   "cell_type": "markdown",
   "id": "281ded61",
   "metadata": {},
   "source": [
    "## Reading User Input"
   ]
  },
  {
   "cell_type": "code",
   "execution_count": null,
   "id": "d752f003",
   "metadata": {},
   "outputs": [],
   "source": [
    "name = input(\"Enter your name: \")\n",
    "print(\"Hello, \" + name + \"!\") # note spacing\n",
    "\n",
    "mass = input(\"Enter your mass in kg: \")\n",
    "mass = float(mass)  # convert string to integer\n",
    "weight = mass * 0.165\n",
    "weight = str(weight)  # convert integer to string\n",
    "print(\"Your weight on the Moon is \" + weight + \" N\")\n",
    "\n",
    "age = int(input(\"Enter your age: \"))\n",
    "print(\"Next year, you will be \" + str(age + 1) + \" years old.\")"
   ]
  },
  {
   "cell_type": "markdown",
   "id": "78937f80",
   "metadata": {},
   "source": [
    "## Math Basics"
   ]
  },
  {
   "cell_type": "code",
   "execution_count": null,
   "id": "13f8bf58",
   "metadata": {},
   "outputs": [],
   "source": [
    "# Addition\n",
    "x = 10\n",
    "y = 55\n",
    "print(x + y)\n",
    "\n",
    "# Subtraction\n",
    "x = 123\n",
    "y = 23\n",
    "print(x - y)\n",
    "\n",
    "# Multiplication\n",
    "x = 10\n",
    "y = 333\n",
    "print(x * y)\n",
    "\n",
    "# Division\n",
    "x = 11\n",
    "print(x / 2)\n",
    "\n",
    "# Exponentiation\n",
    "x = 13\n",
    "print(x ** 2)\n",
    "\n",
    "# Modulo\n",
    "x = 55\n",
    "print(x % 2)"
   ]
  },
  {
   "cell_type": "markdown",
   "id": "0dbd803f",
   "metadata": {},
   "source": [
    "## F-String Printing"
   ]
  },
  {
   "cell_type": "code",
   "execution_count": null,
   "id": "1d61bc2f",
   "metadata": {},
   "outputs": [],
   "source": [
    "name = input(\"Enter your name: \")\n",
    "print(f\"Hello, {name}!\") \n",
    "\n",
    "mass = float(input(\"Enter your mass in kg: \"))\n",
    "weight = mass * 0.165\n",
    "# weight = str(weight)  # Redundent conversion\n",
    "print(f\"Your weight on the Moon is {weight} N\")\n",
    "\n",
    "age = int(input(\"Enter your age: \"))\n",
    "print(f\"Next year, you will be {str(age + 1)} years old.\")"
   ]
  },
  {
   "cell_type": "markdown",
   "id": "b21d706b",
   "metadata": {},
   "source": [
    "Created by Seth Barrett | 2025"
   ]
  }
 ],
 "metadata": {
  "kernelspec": {
   "display_name": "inclasscode",
   "language": "python",
   "name": "python3"
  },
  "language_info": {
   "codemirror_mode": {
    "name": "ipython",
    "version": 3
   },
   "file_extension": ".py",
   "mimetype": "text/x-python",
   "name": "python",
   "nbconvert_exporter": "python",
   "pygments_lexer": "ipython3",
   "version": "3.11.1"
  }
 },
 "nbformat": 4,
 "nbformat_minor": 5
}
