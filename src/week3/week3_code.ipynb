{
 "cells": [
  {
   "cell_type": "markdown",
   "id": "5658d019",
   "metadata": {},
   "source": [
    "# In Class Examples | Week 3 | AIST 2110 | Python Basics"
   ]
  },
  {
   "cell_type": "markdown",
   "id": "8e4d1cce",
   "metadata": {},
   "source": [
    "## Review"
   ]
  },
  {
   "cell_type": "code",
   "execution_count": null,
   "id": "3fcc597a",
   "metadata": {},
   "outputs": [
    {
     "name": "stdout",
     "output_type": "stream",
     "text": [
      "[main 097e736] Week 3 added\n",
      " 4 files changed, 594 insertions(+), 12 deletions(-)\n",
      " create mode 100644 src/week3/week3_code.ipynb\n",
      "Enumerating objects: 15, done.\n",
      "Counting objects: 100% (15/15), done.\n",
      "Delta compression using up to 10 threads\n",
      "Compressing objects: 100% (7/7), done.\n",
      "Writing objects: 100% (9/9), 22.00 KiB | 11.00 MiB/s, done.\n",
      "Total 9 (delta 3), reused 0 (delta 0), pack-reused 0\n",
      "remote: Resolving deltas: 100% (3/3), completed with 2 local objects.\u001b[K\n",
      "To https://github.com/sethbarrett50/AIST-2110---In-Class-Code.git\n",
      "   87ddbd0..097e736  main -> main\n",
      "total 16\n",
      "drwxr-xr-x  3 SEBARRETT  staff    96 Sep  4 08:20 \u001b[34m.\u001b[m\u001b[m\n",
      "drwxr-xr-x  6 SEBARRETT  staff   192 Sep  4 08:19 \u001b[34m..\u001b[m\u001b[m\n",
      "-rw-r--r--  1 SEBARRETT  staff  4225 Sep  4 08:33 week3_code.ipynb\n",
      "total 16\n",
      "drwxr-xr-x  3 SEBARRETT  staff    96 Sep  4 08:20 \u001b[34m.\u001b[m\u001b[m\n",
      "drwxr-xr-x  6 SEBARRETT  staff   192 Sep  4 08:19 \u001b[34m..\u001b[m\u001b[m\n",
      "-rw-r--r--  1 SEBARRETT  staff  4225 Sep  4 08:33 week3_code.ipynb\n"
     ]
    }
   ],
   "source": [
    "! git commit -a -m \"Week 3 added\"\n",
    "! git push\n",
    "\n",
    "! ls -la\n",
    "! cd .. ; ls -la"
   ]
  },
  {
   "cell_type": "markdown",
   "id": "de3b794c",
   "metadata": {},
   "source": [
    "## Printing"
   ]
  },
  {
   "cell_type": "code",
   "execution_count": 1,
   "id": "ec148e21",
   "metadata": {},
   "outputs": [
    {
     "name": "stdout",
     "output_type": "stream",
     "text": [
      "Hello world\n",
      "Hello world\n"
     ]
    }
   ],
   "source": [
    "print(\"Hello world\")\n",
    "\n",
    "print('Hello world')"
   ]
  },
  {
   "cell_type": "markdown",
   "id": "5bce6b08",
   "metadata": {},
   "source": [
    "## Variables"
   ]
  },
  {
   "cell_type": "code",
   "execution_count": null,
   "id": "2b0d0537",
   "metadata": {},
   "outputs": [],
   "source": [
    "str_ex = \"This is a string\"\n",
    "type(str_ex)\n",
    "\n",
    "int_ex = 5\n",
    "type(int_ex)\n",
    "\n",
    "float_ex = 5.0\n",
    "type(float_ex)\n",
    "\n",
    "bool_ex = True\n",
    "type(bool_ex)"
   ]
  },
  {
   "cell_type": "markdown",
   "id": "281ded61",
   "metadata": {},
   "source": [
    "## Reading User Input"
   ]
  },
  {
   "cell_type": "code",
   "execution_count": null,
   "id": "d752f003",
   "metadata": {},
   "outputs": [],
   "source": [
    "name = input(\"Enter your name: \")\n",
    "print(\"Hello, \" + name + \"!\") # note spacing\n",
    "\n",
    "mass = input(\"Enter your mass in kg: \")\n",
    "mass = float(mass)  # convert string to integer\n",
    "weight = mass * 0.165\n",
    "weight = str(weight)  # convert integer to string\n",
    "print(\"Your weight on the Moon is \" + weight + \" N\")\n",
    "\n",
    "age = int(input(\"Enter your age: \"))\n",
    "print(\"Next year, you will be \" + str(age + 1) + \" years old.\")"
   ]
  },
  {
   "cell_type": "markdown",
   "id": "78937f80",
   "metadata": {},
   "source": [
    "## Math Basics"
   ]
  },
  {
   "cell_type": "code",
   "execution_count": null,
   "id": "13f8bf58",
   "metadata": {},
   "outputs": [],
   "source": [
    "# Addition\n",
    "x = 10\n",
    "y = 55\n",
    "print(x + y)\n",
    "\n",
    "# Subtraction\n",
    "x = 123\n",
    "y = 23\n",
    "print(x - y)\n",
    "\n",
    "# Multiplication\n",
    "x = 10\n",
    "y = 333\n",
    "print(x * y)\n",
    "\n",
    "# Division\n",
    "x = 11\n",
    "print(x / 2)\n",
    "\n",
    "# Exponentiation\n",
    "x = 13\n",
    "print(x ** 2)\n",
    "\n",
    "# Modulo\n",
    "x = 55\n",
    "print(x % 2)"
   ]
  },
  {
   "cell_type": "markdown",
   "id": "0dbd803f",
   "metadata": {},
   "source": [
    "## F-String Printing"
   ]
  },
  {
   "cell_type": "code",
   "execution_count": null,
   "id": "1d61bc2f",
   "metadata": {},
   "outputs": [],
   "source": [
    "name = input(\"Enter your name: \")\n",
    "print(f\"Hello, {name}!\") \n",
    "\n",
    "mass = float(input(\"Enter your mass in kg: \"))\n",
    "weight = mass * 0.165\n",
    "# weight = str(weight)  # Redundent conversion\n",
    "print(f\"Your weight on the Moon is {weight} N\")\n",
    "\n",
    "age = int(input(\"Enter your age: \"))\n",
    "print(f\"Next year, you will be {str(age + 1)} years old.\")"
   ]
  },
  {
   "cell_type": "markdown",
   "id": "b21d706b",
   "metadata": {},
   "source": [
    "Created by Seth Barrett | 2025"
   ]
  }
 ],
 "metadata": {
  "kernelspec": {
   "display_name": "inclasscode",
   "language": "python",
   "name": "python3"
  },
  "language_info": {
   "codemirror_mode": {
    "name": "ipython",
    "version": 3
   },
   "file_extension": ".py",
   "mimetype": "text/x-python",
   "name": "python",
   "nbconvert_exporter": "python",
   "pygments_lexer": "ipython3",
   "version": "3.11.1"
  }
 },
 "nbformat": 4,
 "nbformat_minor": 5
}
