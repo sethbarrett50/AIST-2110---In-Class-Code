{
 "cells": [
  {
   "cell_type": "markdown",
   "id": "5658d019",
   "metadata": {},
   "source": [
    "# In Class Examples | Week 9 | AIST 2110 | While Loops"
   ]
  },
  {
   "cell_type": "markdown",
   "id": "8e4d1cce",
   "metadata": {},
   "source": [
    "## Review"
   ]
  },
  {
   "cell_type": "code",
   "execution_count": null,
   "id": "3fcc597a",
   "metadata": {},
   "outputs": [],
   "source": [
    "\n",
    "def mult_three_neg(prompt: str, lower:float, upper:float) -> float | None:\n",
    "    \"\"\"\n",
    "    Asks a user a question, gets input from the user, and returns the input if its a negative float divisble by three within the bounds.\n",
    "    If they enter anything else is entered, None is returned\n",
    "\n",
    "    Args:\n",
    "        question (str): Question a user is prompted with\n",
    "        lower (float): Lower bounds of acceptable answer\n",
    "        upper (float): Upper bounds of acceptable answer\n",
    "\n",
    "    Returns:\n",
    "        (float | None) -> Float if user input is validr, else None\n",
    "    \"\"\"\n",
    "    try:\n",
    "        num = float(input(prompt))\n",
    "    except ValueError:\n",
    "        print(\"Non-valid input\")\n",
    "        return None\n",
    "    if num < 0 and num % 3 == 0 and lower <= num <= upper:\n",
    "        return num\n",
    "    else:\n",
    "        print(\"Non-valid input\")\n",
    "        return None\n",
    "\n",
    "\n",
    "val = mult_three_neg(\"Enter a number: \", -20, -2)\n",
    "if val:\n",
    "    print(f\"{val} is negative, bounded by -20 & -2 and was a multple of three\")"
   ]
  },
  {
   "cell_type": "markdown",
   "id": "de3b794c",
   "metadata": {},
   "source": [
    "## While True"
   ]
  },
  {
   "cell_type": "code",
   "execution_count": null,
   "id": "2b0d0537",
   "metadata": {},
   "outputs": [],
   "source": [
    "while True:\n",
    "    \"\"\"\n",
    "    Does this forever\n",
    "    \"\"\"\n",
    "    print(\"Hello world\")"
   ]
  },
  {
   "cell_type": "markdown",
   "id": "99e051a9",
   "metadata": {},
   "source": [
    "## Conditional While Loops"
   ]
  },
  {
   "cell_type": "code",
   "execution_count": null,
   "id": "2ce202d6",
   "metadata": {},
   "outputs": [],
   "source": [
    "count = 0 \n",
    "while count < 67:\n",
    "    print(f'Hello world {count + 1}')\n",
    "    # count += 1"
   ]
  },
  {
   "cell_type": "markdown",
   "id": "0c4740bc",
   "metadata": {},
   "source": [
    "## Break && Continue"
   ]
  },
  {
   "cell_type": "code",
   "execution_count": null,
   "id": "32e533b2",
   "metadata": {},
   "outputs": [],
   "source": [
    "count = 0 \n",
    "while True:\n",
    "    print(f'Hello world {count + 1}')\n",
    "    if count < 67:\n",
    "        continue\n",
    "    else:\n",
    "        break\n",
    "    # Show how continue isn't needed"
   ]
  },
  {
   "cell_type": "markdown",
   "id": "0faae5b8",
   "metadata": {},
   "source": [
    "## While for User Input Validation"
   ]
  },
  {
   "cell_type": "code",
   "execution_count": null,
   "id": "bbd6b733",
   "metadata": {},
   "outputs": [],
   "source": [
    "age = None\n",
    "while True:\n",
    "    inp = input(\"Please enter your age(positive integer > 0 )\")\n",
    "    try: \n",
    "        iinp = int(inp)\n",
    "        if iinp > 0:\n",
    "            age = iinp \n",
    "            break\n",
    "        else: \n",
    "            print(\"Age must be greater than 0\")\n",
    "            continue\n",
    "    except ValueError:\n",
    "        print(\"Age must be a valid integer\")\n",
    "        continue\n",
    "\n",
    "print(f\"Your age is {age}\")"
   ]
  },
  {
   "cell_type": "markdown",
   "id": "7ef4d949",
   "metadata": {},
   "source": [
    "## Combining While with Functions"
   ]
  },
  {
   "cell_type": "code",
   "execution_count": null,
   "id": "87a2109b",
   "metadata": {},
   "outputs": [],
   "source": [
    "pass"
   ]
  },
  {
   "cell_type": "markdown",
   "id": "cc39b09a",
   "metadata": {},
   "source": [
    "### My version"
   ]
  },
  {
   "cell_type": "code",
   "execution_count": null,
   "id": "c186b9a7",
   "metadata": {},
   "outputs": [],
   "source": [
    "def get_positive_int(prompt:str) -> int:\n",
    "    while True:\n",
    "        inp = input(prompt)\n",
    "        try: \n",
    "            iinp = int(inp)\n",
    "            if iinp > 0:\n",
    "                return iinp \n",
    "            else: \n",
    "                print(\"Input must be greater than 0\")\n",
    "                continue\n",
    "        except ValueError:\n",
    "            print(\"Input must be a valid integer\")\n",
    "            continue\n",
    "\n",
    "age = get_positive_int(\"Please enter your age\")\n"
   ]
  },
  {
   "cell_type": "markdown",
   "id": "b21d706b",
   "metadata": {},
   "source": [
    "Created by Seth Barrett | 2025"
   ]
  }
 ],
 "metadata": {
  "kernelspec": {
   "display_name": "inclasscode",
   "language": "python",
   "name": "python3"
  },
  "language_info": {
   "codemirror_mode": {
    "name": "ipython",
    "version": 3
   },
   "file_extension": ".py",
   "mimetype": "text/x-python",
   "name": "python",
   "nbconvert_exporter": "python",
   "pygments_lexer": "ipython3",
   "version": "3.11.1"
  }
 },
 "nbformat": 4,
 "nbformat_minor": 5
}
