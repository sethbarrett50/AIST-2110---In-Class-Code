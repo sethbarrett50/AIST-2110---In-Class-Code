{
 "cells": [
  {
   "cell_type": "markdown",
   "id": "5658d019",
   "metadata": {},
   "source": [
    "# In Class Examples | Week 10 | AIST 2110 | Strings"
   ]
  },
  {
   "cell_type": "markdown",
   "id": "8e4d1cce",
   "metadata": {},
   "source": [
    "## Review"
   ]
  },
  {
   "cell_type": "code",
   "execution_count": null,
   "id": "3fcc597a",
   "metadata": {},
   "outputs": [],
   "source": [
    "def get_positive_int(prompt:str) -> int:\n",
    "    while True:\n",
    "        inp = input(prompt)\n",
    "        try: \n",
    "            iinp = int(inp)\n",
    "            if iinp > 0:\n",
    "                return iinp \n",
    "            else: \n",
    "                print(\"Input must be greater than 0\")\n",
    "                continue\n",
    "        except ValueError:\n",
    "            print(\"Input must be a valid integer\")\n",
    "            continue\n",
    "\n",
    "age = get_positive_int(\"Please enter your age\")\n"
   ]
  },
  {
   "cell_type": "markdown",
   "id": "de3b794c",
   "metadata": {},
   "source": [
    "## String Basics"
   ]
  },
  {
   "cell_type": "code",
   "execution_count": null,
   "id": "2b0d0537",
   "metadata": {},
   "outputs": [
    {
     "name": "stdout",
     "output_type": "stream",
     "text": [
      "ex_str = 'Hello world!'\n",
      "str2 = 'Hallo world!'\n",
      "12\n",
      "6\n"
     ]
    }
   ],
   "source": [
    "ex_str = \"Hello world!\"\n",
    "\n",
    "# ex_str[1] = 'a'\n",
    "\n",
    "str2 = ex_str.replace('e', 'a')\n",
    "\n",
    "print(f'{ex_str = }\\n{str2 = }')\n",
    "print(len(ex_str))\n",
    "\n",
    "print(ex_str.find(\"world\"))"
   ]
  },
  {
   "cell_type": "markdown",
   "id": "99e051a9",
   "metadata": {},
   "source": [
    "## String Slicing"
   ]
  },
  {
   "cell_type": "code",
   "execution_count": null,
   "id": "2ce202d6",
   "metadata": {},
   "outputs": [],
   "source": [
    "s = \"hello world\" # inclusiveStart:exclusiveStop:step\n",
    "# index map:   0 1 2 3 4 5 6 7 8 9 10\n",
    "#              h e l l o   w o r l d\n",
    "# neg idx:    -11       …          -1"
   ]
  },
  {
   "cell_type": "code",
   "execution_count": null,
   "id": "8b03c585",
   "metadata": {},
   "outputs": [],
   "source": [
    "s = \"hello world\"\n",
    "input(s[:5])\n",
    " \n",
    "input(s[6:])\n",
    "\n",
    "input(s[3:8])\n",
    "\n",
    "input(s[-5:])\n",
    "\n",
    "input(s[:-1])\n",
    "\n",
    "input(s[:])\n"
   ]
  },
  {
   "cell_type": "code",
   "execution_count": null,
   "id": "5a5f9b3f",
   "metadata": {},
   "outputs": [
    {
     "data": {
      "text/plain": [
       "''"
      ]
     },
     "execution_count": 12,
     "metadata": {},
     "output_type": "execute_result"
    }
   ],
   "source": [
    "s = \"hello world\"\n",
    "input(s[::2])\n",
    "\n",
    "input(s[1::2])\n",
    "\n",
    "input(s[::-1])\n",
    "\n",
    "input(s[8:3:-1])\n",
    "\n",
    "input(s[-2:-6:-1])\n",
    "\n",
    "s = \"hello world\" # inclusiveStart:exclusiveStop:step\n",
    "# index map:   0 1 2 3 4 5 6 7 8 9 10\n",
    "#              h e l l o   w o r l d\n",
    "# neg idx:    -11       …          -1"
   ]
  },
  {
   "cell_type": "code",
   "execution_count": null,
   "id": "c8a9c9b9",
   "metadata": {},
   "outputs": [],
   "source": [
    "s = \"hello world\"\n",
    "input(s[4:8:2])\n",
    "\n",
    "input(s[0:11:3])\n",
    "\n",
    "input(s[2:2])\n",
    "\n",
    "input(s[20:25])\n",
    "\n",
    "input(s[-100:5])\n",
    "\n",
    "input(s[5:100])\n",
    "\n",
    "input(s[-11])\n",
    "s = \"hello world\" # inclusiveStart:exclusiveStop:step\n",
    "# index map:   0 1 2 3 4 5 6 7 8 9 10\n",
    "#              h e l l o   w o r l d\n",
    "# neg idx:    -11       …          -1"
   ]
  },
  {
   "cell_type": "markdown",
   "id": "6512a2d0",
   "metadata": {},
   "source": [
    "### Challenges:\n",
    "1. get 'or' from s using a forward slice: _____\n",
    "\n",
    "2. get 'ow' using a reverse slice: _____\n",
    "\n",
    "3. drop the first and last char: _____\n",
    "\n",
    "4. get every 3rd char starting at 'e': _____\n",
    "\n",
    "5. reverse only 'world' (keep 'hello ' intact): _____"
   ]
  },
  {
   "cell_type": "code",
   "execution_count": 4,
   "id": "48079657",
   "metadata": {},
   "outputs": [
    {
     "name": "stdout",
     "output_type": "stream",
     "text": [
      "hello dlrow\n"
     ]
    }
   ],
   "source": [
    "s = \"hello world\"\n",
    "print(s[:6] + s[:-6:-1])"
   ]
  },
  {
   "cell_type": "code",
   "execution_count": null,
   "id": "5c192541",
   "metadata": {},
   "outputs": [
    {
     "name": "stdout",
     "output_type": "stream",
     "text": [
      "s = 'hello world'\n",
      "s2 = 'hallo world'\n"
     ]
    }
   ],
   "source": [
    "s = \"hello world\"\n",
    "\n",
    "s2 = s.replace('e ', 'a')\n",
    "\n",
    "\n",
    "print(f'{s = }')\n",
    "print(f'{s2 = }')\n"
   ]
  },
  {
   "cell_type": "markdown",
   "id": "0c4740bc",
   "metadata": {},
   "source": [
    "## String Looping"
   ]
  },
  {
   "cell_type": "code",
   "execution_count": 11,
   "id": "32e533b2",
   "metadata": {},
   "outputs": [
    {
     "name": "stdout",
     "output_type": "stream",
     "text": [
      "0"
     ]
    },
    {
     "name": "stdout",
     "output_type": "stream",
     "text": [
      "hello world"
     ]
    }
   ],
   "source": [
    "from string import printable\n",
    "from time import sleep\n",
    "\n",
    "# ex = \"Lorem ipsum dolor sit amet, consectetur adipiscing elit, sed do eiusmod tempor incididunt ut labore et dolore magna aliqua. Ut enim ad minim veniam, quis nostrud exercitation ullamco laboris nisi ut aliquip ex ea commodo consequat. Duis aute irure dolor in reprehenderit in voluptate velit esse cillum dolore eu fugiat nulla pariatur. Excepteur sint occaecat cupidatat non proident, sunt in culpa qui officia deserunt mollit anim id est laborum.\"\n",
    "ex = \"hello world\"\n",
    "built = \"\"\n",
    "\n",
    "for target in ex:\n",
    "    for c in printable:\n",
    "        sleep(.01)\n",
    "        print(f\"\\r{built}{c}\", flush=True, end='')\n",
    "        if c == target:\n",
    "            built += c\n",
    "            break"
   ]
  },
  {
   "cell_type": "markdown",
   "id": "b21d706b",
   "metadata": {},
   "source": [
    "Created by Seth Barrett | 2025"
   ]
  }
 ],
 "metadata": {
  "kernelspec": {
   "display_name": "inclasscode",
   "language": "python",
   "name": "python3"
  },
  "language_info": {
   "codemirror_mode": {
    "name": "ipython",
    "version": 3
   },
   "file_extension": ".py",
   "mimetype": "text/x-python",
   "name": "python",
   "nbconvert_exporter": "python",
   "pygments_lexer": "ipython3",
   "version": "3.11.1"
  }
 },
 "nbformat": 4,
 "nbformat_minor": 5
}
