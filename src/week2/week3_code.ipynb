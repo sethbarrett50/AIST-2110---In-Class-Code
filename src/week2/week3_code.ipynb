{
 "cells": [
  {
   "cell_type": "markdown",
   "id": "5658d019",
   "metadata": {},
   "source": [
    "# In Class Examples | Week 2 | AIST 2110 | UNIX Basic Commands"
   ]
  },
  {
   "cell_type": "markdown",
   "id": "8e4d1cce",
   "metadata": {},
   "source": [
    "## Review"
   ]
  },
  {
   "cell_type": "code",
   "execution_count": null,
   "id": "3fcc597a",
   "metadata": {},
   "outputs": [],
   "source": [
    "! git commit -a -m \"Week 2 added\"\n",
    "! git push"
   ]
  },
  {
   "cell_type": "markdown",
   "id": "de3b794c",
   "metadata": {},
   "source": [
    "## Printing Current Directory"
   ]
  },
  {
   "cell_type": "code",
   "execution_count": null,
   "id": "ec148e21",
   "metadata": {},
   "outputs": [],
   "source": [
    "! pwd"
   ]
  },
  {
   "cell_type": "markdown",
   "id": "5bce6b08",
   "metadata": {},
   "source": [
    "## Listing files in Current Directory"
   ]
  },
  {
   "cell_type": "code",
   "execution_count": null,
   "id": "2b0d0537",
   "metadata": {},
   "outputs": [],
   "source": [
    "! ls"
   ]
  },
  {
   "cell_type": "code",
   "execution_count": null,
   "id": "181b2e91",
   "metadata": {},
   "outputs": [],
   "source": [
    "! ls -a # lists all files including hidden files"
   ]
  },
  {
   "cell_type": "code",
   "execution_count": null,
   "id": "028c31f9",
   "metadata": {},
   "outputs": [],
   "source": [
    "! ls -l # lists files in long format"
   ]
  },
  {
   "cell_type": "code",
   "execution_count": null,
   "id": "180456eb",
   "metadata": {},
   "outputs": [],
   "source": [
    "! ls -la # Combine both options"
   ]
  },
  {
   "cell_type": "markdown",
   "id": "e212c8cc",
   "metadata": {},
   "source": [
    "## Changing Directories"
   ]
  },
  {
   "cell_type": "code",
   "execution_count": null,
   "id": "41a2cf9a",
   "metadata": {},
   "outputs": [],
   "source": [
    "! cd ..; pwd # Moving up one directory level\n",
    "! cd ../week2; pwd\n",
    "! cd ../week3; pwd"
   ]
  },
  {
   "cell_type": "markdown",
   "id": "402d68d4",
   "metadata": {},
   "source": [
    "## Concatenating Files"
   ]
  },
  {
   "cell_type": "code",
   "execution_count": null,
   "id": "607e6263",
   "metadata": {},
   "outputs": [],
   "source": [
    "! cat test.txt"
   ]
  },
  {
   "cell_type": "markdown",
   "id": "b21d706b",
   "metadata": {},
   "source": [
    "Created by Seth Barrett | 2025"
   ]
  }
 ],
 "metadata": {
  "kernelspec": {
   "display_name": "inclasscode",
   "language": "python",
   "name": "python3"
  },
  "language_info": {
   "codemirror_mode": {
    "name": "ipython",
    "version": 3
   },
   "file_extension": ".py",
   "mimetype": "text/x-python",
   "name": "python",
   "nbconvert_exporter": "python",
   "pygments_lexer": "ipython3",
   "version": "3.11.1"
  }
 },
 "nbformat": 4,
 "nbformat_minor": 5
}
