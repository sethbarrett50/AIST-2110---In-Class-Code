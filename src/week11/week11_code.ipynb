{
 "cells": [
  {
   "cell_type": "markdown",
   "id": "5658d019",
   "metadata": {},
   "source": [
    "# In Class Examples | Week 11 | AIST 2110 | Lists"
   ]
  },
  {
   "cell_type": "markdown",
   "id": "8e4d1cce",
   "metadata": {},
   "source": [
    "## Review"
   ]
  },
  {
   "cell_type": "code",
   "execution_count": null,
   "id": "3fcc597a",
   "metadata": {},
   "outputs": [],
   "source": [
    "text = \"Just any sentence\"\n",
    "\n",
    "# Give me a slice to reverse sentence\n",
    "reversed_text = ...\n",
    "\n",
    "print(reversed_text)"
   ]
  },
  {
   "cell_type": "markdown",
   "id": "de3b794c",
   "metadata": {},
   "source": [
    "## List Basics"
   ]
  },
  {
   "cell_type": "markdown",
   "id": "63d9a18a",
   "metadata": {},
   "source": [
    "### Declaration"
   ]
  },
  {
   "cell_type": "code",
   "execution_count": null,
   "id": "2b0d0537",
   "metadata": {},
   "outputs": [],
   "source": [
    "wow = [1, 2, 3]\n",
    "print(wow)"
   ]
  },
  {
   "cell_type": "markdown",
   "id": "61a7b3df",
   "metadata": {},
   "source": [
    "### Diff Types in same list"
   ]
  },
  {
   "cell_type": "code",
   "execution_count": null,
   "id": "a025232f",
   "metadata": {},
   "outputs": [],
   "source": [
    "from math import pi\n",
    "pis = ['pi', 3.14, pi]\n",
    "\n",
    "print(pis)"
   ]
  },
  {
   "cell_type": "markdown",
   "id": "fb61f986",
   "metadata": {},
   "source": [
    "### Mutability"
   ]
  },
  {
   "cell_type": "code",
   "execution_count": null,
   "id": "de51fb7b",
   "metadata": {},
   "outputs": [],
   "source": [
    "from math import pi\n",
    "pis = ['pi', 3.14, pi]\n",
    "\n",
    "print(pis)\n",
    "\n",
    "pis[0] = 'pie'\n",
    "\n",
    "print(pis)"
   ]
  },
  {
   "cell_type": "markdown",
   "id": "2bf776b9",
   "metadata": {},
   "source": [
    "## `in` Keyword"
   ]
  },
  {
   "cell_type": "code",
   "execution_count": null,
   "id": "b587c1cb",
   "metadata": {},
   "outputs": [],
   "source": [
    "# Conditional Usage\n",
    "\n",
    "ex_list = [1, \"2\", 3, \"4\", \"5\", 6, 7, \"8\", \"9\"]\n",
    "\n",
    "if 2 in ex_list:\n",
    "    print(\"2 found\")\n",
    "elif 7 in ex_list:\n",
    "    print(\"7 found\")\n",
    "elif \"8\" in ex_list:\n",
    "    print(\"8 found\")\n",
    "else:\n",
    "    print(\"None found\")"
   ]
  },
  {
   "cell_type": "markdown",
   "id": "bdfdcf45",
   "metadata": {},
   "source": [
    "## List Slicing"
   ]
  },
  {
   "cell_type": "code",
   "execution_count": null,
   "id": "46eac4c8",
   "metadata": {},
   "outputs": [],
   "source": [
    "# Same as str\n",
    "ex_list = [1, 2, 3, 4, 5, 6, 7, 8, 9]\n",
    "print(ex_list)\n",
    "print(ex_list[::-1])"
   ]
  },
  {
   "cell_type": "markdown",
   "id": "ca049b4b",
   "metadata": {},
   "source": [
    "### Getting Last Value"
   ]
  },
  {
   "cell_type": "code",
   "execution_count": null,
   "id": "715af184",
   "metadata": {},
   "outputs": [],
   "source": [
    "# How to set nine to last value in list (9)\n",
    "nine = ...\n"
   ]
  },
  {
   "cell_type": "markdown",
   "id": "56041fd6",
   "metadata": {},
   "source": [
    "## List Looping "
   ]
  },
  {
   "cell_type": "markdown",
   "id": "73a510fc",
   "metadata": {},
   "source": [
    "### While Loop"
   ]
  },
  {
   "cell_type": "code",
   "execution_count": null,
   "id": "e703d81c",
   "metadata": {},
   "outputs": [],
   "source": [
    "dt_depths = [9, 9, 7, 8, 12]\n",
    "counter = 0\n",
    "while counter < len(dt_depths):\n",
    "    print(dt_depths[counter])"
   ]
  },
  {
   "cell_type": "markdown",
   "id": "1ffe5ad1",
   "metadata": {},
   "source": [
    "### For Loop"
   ]
  },
  {
   "cell_type": "code",
   "execution_count": null,
   "id": "16558c52",
   "metadata": {},
   "outputs": [],
   "source": [
    "# Most powerful loop for lists/str/sequences -> New in\n",
    "import statistics\n",
    "import random\n",
    "\n",
    "vals = []\n",
    "\n",
    "# Range Ex\n",
    "# for _ in range( 50):\n",
    "for x in range(0, 50):\n",
    "    vals.append(random.randint(0, x))\n",
    "\n",
    "print(vals)\n",
    "\n",
    "\n",
    "stats = []\n",
    "stats.append(\"Mean: \")\n",
    "stats.append(statistics.mean(vals))\n",
    "\n",
    "stats.append(\"Median: \")\n",
    "stats.append(statistics.median(vals))\n",
    "\n",
    "stats.append(\"Mode: \")\n",
    "stats.append(statistics.mode(vals))\n",
    "\n",
    "stats.append(\"Range: \")\n",
    "stats.append(statistics.mode(vals))\n",
    "\n",
    "for v in stats:\n",
    "    print(v) # Everything on diff lines\n",
    "\n",
    "for i in range(0, len(stats), 2):\n",
    "    print(f\"{stats[i]}{stats[i+1]}\")"
   ]
  },
  {
   "cell_type": "markdown",
   "id": "a8ffe90d",
   "metadata": {},
   "source": [
    "### Range specifics"
   ]
  },
  {
   "cell_type": "code",
   "execution_count": null,
   "id": "fb22e7d6",
   "metadata": {},
   "outputs": [],
   "source": [
    "list1 = [0, 1, 2, 3]\n",
    "for i in range(0, len(list1)):\n",
    "    print(list1[i])\n",
    "\n",
    "for i in range(len(list1)): # Does the same\n",
    "    print(list1[i])\n"
   ]
  },
  {
   "cell_type": "markdown",
   "id": "5fd75672",
   "metadata": {},
   "source": [
    "## Nested Lists"
   ]
  },
  {
   "cell_type": "code",
   "execution_count": null,
   "id": "5000a225",
   "metadata": {},
   "outputs": [],
   "source": [
    "from math import pi\n",
    "\n",
    "nest_ex = [\n",
    "    ['b', 'r', 'u', 'h'],\n",
    "    ['p', 'a', 's', 's', 'w', 'o', 'r', 'd', '1', 2, '3'],\n",
    "    [0, 1, 1, 0, 4, 1, 0, 7, 5, 2, 5, 1, 5, 13, 13, 10, 13, 3, 10, 1, pi, 12, 22, 8, 7, 11, 9, 9, 15, 19, 16, 12, 29, 16, 28, 17, 17, 5, 35, 0, 11, 14, 0, 33, 37, 13, 1, 19, 22, 20],\n",
    "]\n",
    "\n",
    "# Double Index:\n",
    "print(f\"To access d, I use: {nest_ex[1][7] = }\")\n",
    "\n",
    "print(f\"To access pi, I use: {nest_ex[2][nest_ex[2].index(pi)] = }\")\n",
    "\n",
    "print(f\"To access the last value of bruh, I use: {nest_ex[0][len(nest_ex[0]) - 1] = }\")"
   ]
  },
  {
   "cell_type": "markdown",
   "id": "58fa4f5a",
   "metadata": {},
   "source": [
    "### Nested List Looping"
   ]
  },
  {
   "cell_type": "code",
   "execution_count": null,
   "id": "569e546a",
   "metadata": {},
   "outputs": [],
   "source": [
    "from math import pi\n",
    "from typing import List,Any\n",
    "\n",
    "def print_nest_list(to_print: List[List[Any]]) -> None:\n",
    "    for list1 in to_print:\n",
    "        for val in list1:\n",
    "            print(val, end='')\n",
    "        print() # Why do I include this\n",
    "\n",
    "nest_ex = [\n",
    "    ['b', 'r', 'u', 'h'],\n",
    "    ['p', 'a', 's', 's', 'w', 'o', 'r', 'd', '1', 2, '3'],\n",
    "    [0, 1, 1, 0, 4, 1, 0, 7, 5, 2, 5, 1, 5, 13, 13, 10, 13, 3, 10, 1, pi, 12, 22, 8, 7, 11, 9, 9, 15, 19, 16, 12, 29, 16, 28, 17, 17, 5, 35, 0, 11, 14, 0, 33, 37, 13, 1, 19, 22, 20],\n",
    "]\n",
    "\n",
    "print_nest_list(nest_ex)"
   ]
  },
  {
   "cell_type": "markdown",
   "id": "2e3190c0",
   "metadata": {},
   "source": [
    "### Nested List Slicing"
   ]
  },
  {
   "cell_type": "code",
   "execution_count": 12,
   "id": "56031fc2",
   "metadata": {},
   "outputs": [],
   "source": [
    "from math import pi\n",
    "\n",
    "nest_ex = [\n",
    "    ['b', 'r', 'u', 'h'],\n",
    "    ['p', 'a', 's', 's', 'w', 'o', 'r', 'd', '1', 2, '3'],\n",
    "    [0, 1, 1, 0, 4, 1, 0, 7, 5, 2, 5, 1, 5, 13, 13, 10, 13, 3, 10, 1, pi, 12, 22, 8, 7, 11, 9, 9, 15, 19, 16, 12, 29, 16, 28, 17, 17, 5, 35, 0, 11, 14, 0, 33, 37, 13, 1, 19, 22, 20],\n",
    "]\n",
    "\n",
    "\n",
    "# To get \"bruh\"\n",
    "bruh = nest_ex[0][:]\n",
    "\n",
    "# To get \"123\"\n",
    "\n",
    "one_two_three = nest_ex[1][-3:]"
   ]
  },
  {
   "cell_type": "markdown",
   "id": "ed1ccb44",
   "metadata": {},
   "source": [
    "## List Operations"
   ]
  },
  {
   "cell_type": "markdown",
   "id": "4ac851c5",
   "metadata": {},
   "source": [
    "### Addition"
   ]
  },
  {
   "cell_type": "code",
   "execution_count": null,
   "id": "e9909a2f",
   "metadata": {},
   "outputs": [],
   "source": [
    "t = ['a', 'b', 'c']\n",
    "s = [1, 2, 3]\n",
    "print(t + s) # Sim to extend"
   ]
  },
  {
   "cell_type": "markdown",
   "id": "995c307e",
   "metadata": {},
   "source": [
    "### Multiplication"
   ]
  },
  {
   "cell_type": "code",
   "execution_count": null,
   "id": "7c67f9df",
   "metadata": {},
   "outputs": [],
   "source": [
    "t = ['a', 'b', 'c']\n",
    "print(t * 5) # Wow it multiplies it, who would've guessed"
   ]
  },
  {
   "cell_type": "markdown",
   "id": "7c56077d",
   "metadata": {},
   "source": [
    "### Subtraction"
   ]
  },
  {
   "cell_type": "code",
   "execution_count": null,
   "id": "f489ed11",
   "metadata": {},
   "outputs": [],
   "source": [
    "t = [1, 2, 3]\n",
    "s = [1]\n",
    "print(t - s ) # Notice the red squiggly fr"
   ]
  },
  {
   "cell_type": "markdown",
   "id": "fbfa7b6b",
   "metadata": {},
   "source": [
    "## List Methods"
   ]
  },
  {
   "cell_type": "code",
   "execution_count": null,
   "id": "2373357e",
   "metadata": {},
   "outputs": [],
   "source": [
    "# append, extend, insert, remove, pop, index\n",
    "nums = [3, 41, 12, 9, 74, 15]\n",
    "nums2 = [1, 2, 3]\n",
    "\n",
    "nums2.append(99)\n",
    "print(nums2)\n",
    "\n",
    "nums.extend(nums2)\n",
    "print(nums)\n",
    "\n",
    "nums.insert(2, 1)\n",
    "print(nums)\n",
    "\n",
    "nums.insert(nums.index(99), 0) \n",
    "print(nums)\n",
    "\n",
    "nums.insert(len(nums), 0) # Appends\n",
    "print(nums)\n",
    "\n",
    "nums.remove(0) # Use in while loop to remove all instances of 0\n",
    "print(nums)\n",
    "\n",
    "popped_num = nums.pop(1) # index or value?\n",
    "print(nums)\n",
    "print(f\"{popped_num = }\")\n"
   ]
  },
  {
   "cell_type": "markdown",
   "id": "6304175a",
   "metadata": {},
   "source": [
    "## Functions for lists/str"
   ]
  },
  {
   "cell_type": "code",
   "execution_count": null,
   "id": "0bb8243c",
   "metadata": {},
   "outputs": [],
   "source": [
    "# sum, max, min, all, del\n",
    "nums = [3, 41, 12, 9, 74, 15]\n",
    "\n",
    "# del nums[2]\n",
    "\n",
    "print(len(nums))\n",
    "print(max(nums))\n",
    "print(min(nums))\n",
    "print(sum(nums))\n",
    "print(sum(nums)/len(nums))\n",
    "\n",
    "\n",
    "\n",
    "\n",
    "# split -> Str\n",
    "text = \"Just any sentence\"\n",
    "print(text.split()) # Default space -> Good for getting words\n",
    " "
   ]
  },
  {
   "cell_type": "markdown",
   "id": "e611b98b",
   "metadata": {},
   "source": [
    "### Conversions"
   ]
  },
  {
   "cell_type": "code",
   "execution_count": null,
   "id": "456aa324",
   "metadata": {},
   "outputs": [],
   "source": [
    "# list (str to list)\n",
    "bruh = \"bruh\"\n",
    "bruh_list = list(bruh)\n",
    "bruh_list[2] = \"a\"\n",
    "print(bruh_list)\n",
    "\n",
    "\n",
    "\n",
    "# ''.join (list to str)\n",
    "bruh_str = ''.join(bruh_list)\n",
    "print(bruh_str)\n",
    "\n",
    "print(\" \".join(bruh_list))\n"
   ]
  },
  {
   "cell_type": "markdown",
   "id": "54f45ecf",
   "metadata": {},
   "source": [
    "## List Comprehensions"
   ]
  },
  {
   "cell_type": "code",
   "execution_count": null,
   "id": "a01e829c",
   "metadata": {},
   "outputs": [],
   "source": [
    "# Ex\n",
    "import random\n",
    "rand_nums = [random.randint(0, x) for x in range(0, 50)]\n"
   ]
  },
  {
   "cell_type": "markdown",
   "id": "453e9291",
   "metadata": {},
   "source": [
    "### In class questions\n",
    "\n",
    "1) Grade boost (cap at 100)\n",
    "    - Story: your class policy adds 5 bonus points to each quiz, but grades can’t exceed 100.\n",
    "    - Given: `scores = [72, 88, 97, 100, 59, 83]`\n",
    "\n",
    "2) Course-title acronym\n",
    "    - Story: given a course title string, build its acronym (first letter of each word, uppercase), skipping tiny connector words.\n",
    "    - Given1: `title = \"introduction to programming in python\"`\n",
    "    - Given2: `skip = (\"to\", \"in\", \"and\", \"of\")`\n",
    "\n",
    "3) CHALLENGE: Warm temps from a weekly grid (nested lists)\n",
    "    - Story: you logged temperatures for several cities across a week. It’s a grid where each inner list is one city’s week. You want a flat list of all temps strictly above 80.\n",
    "    - Given: ```weekly_temps = [\n",
    "    [78, 81, 79, 84, 77, 83, 80],   # City A\n",
    "    [69, 72, 88, 91, 73, 76, 85],   # City B\n",
    "    [82, 80, 79, 78, 90, 88, 81]    # City C\n",
    "]```"
   ]
  },
  {
   "cell_type": "code",
   "execution_count": null,
   "id": "254cc67d",
   "metadata": {},
   "outputs": [],
   "source": [
    "# 1\n",
    "scores = [72, 88, 97, 100, 59, 83]\n",
    "boosted_grades = ...\n",
    "\n",
    "# 2\n",
    "title = \"introduction to programming in python\"\n",
    "skip = (\"to\", \"in\", \"and\", \"of\")\n",
    "acronym_letters = ...\n",
    "\n",
    "# 3\n",
    "weekly_temps = [\n",
    "    [78, 81, 79, 84, 77, 83, 80],   # City A\n",
    "    [69, 72, 88, 91, 73, 76, 85],   # City B\n",
    "    [82, 80, 79, 78, 90, 88, 81]    # City C\n",
    "]\n",
    "hot = ...\n"
   ]
  },
  {
   "cell_type": "markdown",
   "id": "0801a065",
   "metadata": {},
   "source": [
    "### My Solutions"
   ]
  },
  {
   "cell_type": "code",
   "execution_count": null,
   "id": "539eaff5",
   "metadata": {},
   "outputs": [],
   "source": [
    "# 1 \n",
    "scores = [72, 88, 97, 100, 59, 83]\n",
    "boosted_grades = [min(s + 5, 100) for s in scores]\n",
    "\n",
    "# 2\n",
    "title = \"introduction to programming in python\"\n",
    "skip = (\"to\", \"in\", \"and\", \"of\")\n",
    "acronym_letters = [w[0].upper() for w in title.split() if w and w not in skip] # Returns list, how would we turn this to a str?\n",
    "\n",
    "\n",
    "# 3\n",
    "weekly_temps = [\n",
    "    [78, 81, 79, 84, 77, 83, 80],   # City A\n",
    "    [69, 72, 88, 91, 73, 76, 85],   # City B\n",
    "    [82, 80, 79, 78, 90, 88, 81]    # City C\n",
    "]\n",
    "hot = [t for city in weekly_temps for t in city if t > 80]"
   ]
  },
  {
   "cell_type": "markdown",
   "id": "b21d706b",
   "metadata": {},
   "source": [
    "Created by Seth Barrett | 2025"
   ]
  }
 ],
 "metadata": {
  "kernelspec": {
   "display_name": "inclasscode",
   "language": "python",
   "name": "python3"
  },
  "language_info": {
   "codemirror_mode": {
    "name": "ipython",
    "version": 3
   },
   "file_extension": ".py",
   "mimetype": "text/x-python",
   "name": "python",
   "nbconvert_exporter": "python",
   "pygments_lexer": "ipython3",
   "version": "3.11.1"
  }
 },
 "nbformat": 4,
 "nbformat_minor": 5
}
