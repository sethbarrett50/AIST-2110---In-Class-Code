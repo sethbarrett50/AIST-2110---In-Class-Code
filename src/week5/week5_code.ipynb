{
 "cells": [
  {
   "cell_type": "markdown",
   "id": "5658d019",
   "metadata": {},
   "source": [
    "# In Class Examples | Week 5 | AIST 2110 | Conditional Execution Cont."
   ]
  },
  {
   "cell_type": "markdown",
   "id": "8e4d1cce",
   "metadata": {},
   "source": [
    "## Review"
   ]
  },
  {
   "cell_type": "code",
   "execution_count": null,
   "id": "3fcc597a",
   "metadata": {},
   "outputs": [],
   "source": [
    "num_votes = int(input(\"Enter the number of votes: \"))\n",
    "num_voters = int(input(\"Enter the number of voters: \"))\n",
    "if num_votes > num_voters / 2:\n",
    "    print(\"The candidate wins!\")\n",
    "else:\n",
    "    print(\"The candidate loses.\")\n",
    "input() # Wait\n",
    "\n",
    "candA_votes = int(input(\"Enter the number of votes for Candidate A: \"))\n",
    "candB_votes = int(input(\"Enter the number of votes for Candidate B: \"))\n",
    "candC_votes = int(input(\"Enter the number of votes for Candidate C: \"))\n",
    "if candA_votes > num_voters / 2:\n",
    "    print(\"Candidate A wins!\")\n",
    "elif candB_votes > num_voters / 2:\n",
    "    print(\"Candidate B wins!\")\n",
    "elif candC_votes > num_voters / 2:\n",
    "    print(\"Candidate C wins!\")\n",
    "\n",
    "print(\"Uh what happens now?\")"
   ]
  },
  {
   "cell_type": "markdown",
   "id": "de3b794c",
   "metadata": {},
   "source": [
    "## AND & OR"
   ]
  },
  {
   "cell_type": "code",
   "execution_count": null,
   "id": "ec148e21",
   "metadata": {},
   "outputs": [],
   "source": [
    "temperature = 75\n",
    "is_raining = False\n",
    "\n",
    "if temperature > 70 and not is_raining:\n",
    "    print(\"It's warm and dry, perfect for going outside!\")\n",
    "elif temperature > 70 and is_raining:\n",
    "    print(\"It's warm but raining — maybe bring an umbrella.\")\n",
    "elif temperature <= 70 or is_raining:\n",
    "    print(\"Might be too cold or wet, better stay inside.\")\n",
    "else:\n",
    "    print(\"Conditions are uncertain, decide for yourself.\")"
   ]
  },
  {
   "cell_type": "markdown",
   "id": "5bce6b08",
   "metadata": {},
   "source": [
    "## Boolean Truth Tables\n",
    "\n"
   ]
  },
  {
   "cell_type": "markdown",
   "id": "f0bf0843",
   "metadata": {},
   "source": [
    "\n",
    "| A     | B     | C     | A and B | (A and B) or C |\n",
    "| ----- | ----- | ----- | ------- | -------------- |\n",
    "| True  | True  | True  | True    | True           |\n",
    "| True  | True  | False | True    | True           |\n",
    "| True  | False | True  | False   | True           |\n",
    "| True  | False | False | False   | False          |\n",
    "| False | True  | True  | False   | True           |\n",
    "| False | True  | False | False   | False          |\n",
    "| False | False | True  | False   | True           |\n",
    "| False | False | False | False   | False          |"
   ]
  },
  {
   "cell_type": "code",
   "execution_count": null,
   "id": "2b0d0537",
   "metadata": {},
   "outputs": [],
   "source": [
    "A, B, C = True, False, True # explain multiple variable assignment on 1 line\n",
    "print(A and B)        # False\n",
    "print(A or B)         # True\n",
    "print((A and B) or C) # True  (and happens first, then or)\n"
   ]
  },
  {
   "cell_type": "markdown",
   "id": "c1f985cf",
   "metadata": {},
   "source": [
    "## If-Elif-Else w/ Multiple Variables"
   ]
  },
  {
   "cell_type": "code",
   "execution_count": null,
   "id": "fc06f9ba",
   "metadata": {},
   "outputs": [],
   "source": [
    "age = int(input(\"Enter your age: \"))\n",
    "day = input(\"Enter the day of the week: \") # Add lower() example time-provided\n",
    "\n",
    "if age < 5:\n",
    "    price = 0\n",
    "    print(\"toddlers watch for free\")\n",
    "elif age < 18:\n",
    "    if day == \"wednesday\" or day == \"Wednesday\":\n",
    "        price = 5  \n",
    "        print(\"teen discount day\")\n",
    "    else:\n",
    "        price = 7\n",
    "elif age >= 65:\n",
    "    if day == \"monday\" or day == \"Monday\":\n",
    "        price = 4  \n",
    "        print(\"senior Monday special\")\n",
    "    else:\n",
    "        price = 6\n",
    "else:\n",
    "    if day == \"tuesday\" or day == \"Tuesday\":\n",
    "        price = 8  \n",
    "        print(\"adult Tuesday discount\")\n",
    "    else:\n",
    "        price = 10\n",
    "\n",
    "print(f\"Your ticket price is: ${price}\")"
   ]
  },
  {
   "cell_type": "markdown",
   "id": "b21d706b",
   "metadata": {},
   "source": [
    "Created by Seth Barrett | 2025"
   ]
  }
 ],
 "metadata": {
  "kernelspec": {
   "display_name": "inclasscode",
   "language": "python",
   "name": "python3"
  },
  "language_info": {
   "codemirror_mode": {
    "name": "ipython",
    "version": 3
   },
   "file_extension": ".py",
   "mimetype": "text/x-python",
   "name": "python",
   "nbconvert_exporter": "python",
   "pygments_lexer": "ipython3",
   "version": "3.11.1"
  }
 },
 "nbformat": 4,
 "nbformat_minor": 5
}
