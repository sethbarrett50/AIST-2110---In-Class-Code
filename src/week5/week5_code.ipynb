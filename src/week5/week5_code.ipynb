{
 "cells": [
  {
   "cell_type": "markdown",
   "id": "5658d019",
   "metadata": {},
   "source": [
    "# In Class Examples | Week 5 | AIST 2110 | Conditional Execution Cont."
   ]
  },
  {
   "cell_type": "markdown",
   "id": "8e4d1cce",
   "metadata": {},
   "source": [
    "## Review"
   ]
  },
  {
   "cell_type": "code",
   "execution_count": null,
   "id": "3fcc597a",
   "metadata": {},
   "outputs": [],
   "source": [
    "# num_votes = int(input(\"Enter the number of votes: \"))\n",
    "# num_voters = int(input(\"Enter the number of voters: \"))\n",
    "# if num_votes > num_voters / 2:\n",
    "#     print(\"The candidate wins!\")\n",
    "# else:\n",
    "#     print(\"The candidate loses.\")\n",
    "\n",
    "# input()\n",
    "# input(f'{num_voters = }\\n{num_votes = }') # Wait\n",
    "\n",
    "\n",
    "\n",
    "\n",
    "\n",
    "\n",
    "\n",
    "\n",
    "\n",
    "\n",
    "candA_votes = int(input(\"Enter the number of votes for Candidate A: \"))\n",
    "candB_votes = int(input(\"Enter the number of votes for Candidate B: \"))\n",
    "candC_votes = int(input(\"Enter the number of votes for Candidate C: \"))\n",
    "num_voters = candA_votes + candB_votes + candC_votes\n",
    "\n",
    "if candA_votes > num_voters / 2:\n",
    "    print(\"Candidate A wins!\")\n",
    "elif candB_votes > num_voters / 2:\n",
    "    print(\"Candidate B wins!\")\n",
    "elif candC_votes > num_voters / 2:\n",
    "    print(\"Candidate C wins!\")\n",
    "\n",
    "# print(\"Uh what happens now?\")\n",
    "\n",
    "elif candA_votes > candB_votes and candA_votes > candC_votes:\n",
    "    print(\"Candidate A wins!\")\n",
    "elif candB_votes > candA_votes and candB_votes > candC_votes:\n",
    "    print(\"Candidate B wins!\")\n",
    "elif candC_votes > candA_votes and candC_votes > candB_votes:       \n",
    "    print(\"Candidate C wins!\")\n",
    "else:\n",
    "    print(\"It's a tie!\")\n",
    "    if ((candA_votes == candB_votes) and (candA_votes == candC_votes)):\n",
    "        print(\"Between All Candidates\")\n",
    "    elif candA_votes == candB_votes:\n",
    "        print(\"Between Candidates A and B\")\n",
    "    elif candA_votes == candC_votes:\n",
    "        print(\"Between Candidates A and C\")\n",
    "    elif candB_votes == candC_votes:\n",
    "        print(\"Between Candidates B and C\")\n",
    "\n"
   ]
  },
  {
   "cell_type": "markdown",
   "id": "de3b794c",
   "metadata": {},
   "source": [
    "## AND & OR"
   ]
  },
  {
   "cell_type": "code",
   "execution_count": null,
   "id": "ec148e21",
   "metadata": {},
   "outputs": [],
   "source": [
    "temperature = 80\n",
    "is_raining = False\n",
    "\n",
    "if temperature > 70 and not (not is_raining):\n",
    "    print(\"It's warm and dry, perfect for going outside!\")\n",
    "elif temperature > 70 and is_raining:\n",
    "    print(\"It's warm but raining — maybe bring an umbrella.\")\n",
    "elif temperature <= 70 or is_raining:\n",
    "    print(\"Might be too cold or wet, better stay inside.\")\n",
    "else:\n",
    "    print(\"Conditions are uncertain, decide for yourself.\")"
   ]
  },
  {
   "cell_type": "markdown",
   "id": "5bce6b08",
   "metadata": {},
   "source": [
    "## Boolean Truth Tables\n",
    "\n"
   ]
  },
  {
   "cell_type": "markdown",
   "id": "f0bf0843",
   "metadata": {},
   "source": [
    "\n",
    "| A     | B     | C     | A and B | (A and B) or C |\n",
    "| ----- | ----- | ----- | ------- | -------------- |\n",
    "| True  | True  | True  | True    | True           |\n",
    "| True  | True  | False | True    | True           |\n",
    "| True  | False | True  | False   | True           |\n",
    "| True  | False | False | False   | False          |\n",
    "| False | True  | True  | False   | True           |\n",
    "| False | True  | False | False   | False          |\n",
    "| False | False | True  | False   | True           |\n",
    "| False | False | False | False   | False          |"
   ]
  },
  {
   "cell_type": "code",
   "execution_count": null,
   "id": "2b0d0537",
   "metadata": {},
   "outputs": [],
   "source": [
    "A, B, C = True, False, True # explain multiple variable assignment on 1 line\n",
    "\n",
    "x, y = 5, 10\n",
    "\n",
    "print(A and B)        # False\n",
    "print(A or B)         # True\n",
    "print((A and B) or C) # True  (and happens first, then or)\n"
   ]
  },
  {
   "cell_type": "markdown",
   "id": "5471724a",
   "metadata": {},
   "source": [
    "## Try-Except Practice"
   ]
  },
  {
   "cell_type": "code",
   "execution_count": null,
   "id": "5271228f",
   "metadata": {},
   "outputs": [],
   "source": [
    "# try:\n",
    "#     whole_num = int(input(\"Enter a whole number: \"))\n",
    "# except ValueError:\n",
    "#     print(\"That's not a valid whole number!\")\n",
    "#     exit()\n",
    "\n",
    "# try:\n",
    "#     print(f\"didn't exit\\n{whole_num = }\")\n",
    "# except NameError:\n",
    "#     print('exiting')\n",
    "#     exit()\n",
    "try:\n",
    "    decimal_num = float(input(\"Enter a decimal number: \")) # Ctrl + C\n",
    "    o_div = decimal_num / 0\n",
    "except:  # noqa: E722\n",
    "    print(\"That's not a valid whole number!\")\n",
    "    exit()\n",
    "\n",
    "\n",
    "# Use REPL to show different errors\n",
    "\n"
   ]
  },
  {
   "cell_type": "markdown",
   "id": "c1f985cf",
   "metadata": {},
   "source": [
    "## Movie Theatre Practice"
   ]
  },
  {
   "cell_type": "markdown",
   "id": "7095de7c",
   "metadata": {},
   "source": [
    "### Movie Theater Pricing Problem\n",
    "\n",
    "We want to take an age(whole number) and a day of the week(str) from the user\n",
    "- Use try-except to catch Value Error if invalid age is provided -> exit()\n",
    "- Make sure day of the week is stripped & capitalized\n",
    "\n",
    "Pricing Scheme:\n",
    "- Toddlers(less than 5) are free every day\n",
    "- Teens(less than 18) on Wednesday are discounted to $5; normal teen price is $7\n",
    "- Seniors(65 & older) are discounted for senior Monday special to $4; normal senior price is $6\n",
    "- Adults(all others) are discounted on Tuesday to $8; normal adult price is $10\n",
    "\n",
    "Save the price of the ticket to a price variable, and print the price at the end\n",
    "-Use this format: `f\"Your ticket price is: ${price}\"`\n"
   ]
  },
  {
   "cell_type": "code",
   "execution_count": null,
   "id": "fc06f9ba",
   "metadata": {},
   "outputs": [],
   "source": [
    "try:\n",
    "    age = int(input(\"Enter your age: \"))\n",
    "except ValueError:\n",
    "    print(\"Invalid input. Please enter a valid age.\")\n",
    "    exit()\n",
    "    \n",
    "day = input(\"Enter the day of the week: \") # Add lower() & strip() example time-provided\n",
    "\n",
    "if age < 5:\n",
    "    price = 0\n",
    "    print(\"toddlers watch for free\")\n",
    "elif age < 18:\n",
    "    if day == \"wednesday\" or day == \"Wednesday\":\n",
    "        price = 5  \n",
    "        print(\"teen discount day\")\n",
    "    else:\n",
    "        price = 7\n",
    "elif age >= 65:\n",
    "    if day == \"monday\" or day == \"Monday\":\n",
    "        price = 4  \n",
    "        print(\"senior Monday special\")\n",
    "    else:\n",
    "        price = 6\n",
    "else:\n",
    "    if day == \"tuesday\" or day == \"Tuesday\":\n",
    "        price = 8  \n",
    "        print(\"adult Tuesday discount\")\n",
    "    else:\n",
    "        price = 10\n",
    "\n",
    "print(f\"Your ticket price is: ${price}\")"
   ]
  },
  {
   "cell_type": "markdown",
   "id": "4a8f30ae",
   "metadata": {},
   "source": [
    "## Math Review"
   ]
  },
  {
   "cell_type": "code",
   "execution_count": null,
   "id": "a85f3597",
   "metadata": {},
   "outputs": [],
   "source": [
    "# Lemonade Stand\n",
    "# Reviews +, -, *, / with a tiny real-world scenario.\n",
    "\n",
    "cups_sold = int(input(\"Cups sold today: \"))\n",
    "price_per_cup = float(input(\"Price per cup ($): \"))\n",
    "\n",
    "lemons_cost = float(input(\"Cost of lemons ($): \"))\n",
    "sugar_cost = float(input(\"Cost of sugar ($): \"))\n",
    "cups_cost = float(input(\"Cost of cups ($): \"))\n",
    "stand_fee = float(input(\"Stand/permit fee ($): \"))\n",
    "\n",
    "# *  multiplication: revenue = units * price\n",
    "revenue = cups_sold * price_per_cup\n",
    "\n",
    "# +  addition: total costs = sum of all cost items\n",
    "total_costs = lemons_cost + sugar_cost + cups_cost + stand_fee\n",
    "\n",
    "# -  subtraction: profit = revenue - costs\n",
    "profit = revenue - total_costs\n",
    "\n",
    "# /  division: average profit per cup\n",
    "avg_profit = profit / cups_sold if cups_sold > 0 else 0.0\n",
    "\n",
    "print(\"\\n=== Lemonade Stand Summary ===\")\n",
    "print(f\"Revenue:       ${revenue:.2f}\") # Cover .2f formatting\n",
    "print(f\"Total costs:   ${total_costs:.2f}\")\n",
    "print(f\"Profit:        ${profit:.2f}\")\n",
    "print(f\"Avg per cup:   ${avg_profit:.2f}\")\n"
   ]
  },
  {
   "cell_type": "markdown",
   "id": "b21d706b",
   "metadata": {},
   "source": [
    "Created by Seth Barrett | 2025"
   ]
  }
 ],
 "metadata": {
  "kernelspec": {
   "display_name": "inclasscode",
   "language": "python",
   "name": "python3"
  },
  "language_info": {
   "codemirror_mode": {
    "name": "ipython",
    "version": 3
   },
   "file_extension": ".py",
   "mimetype": "text/x-python",
   "name": "python",
   "nbconvert_exporter": "python",
   "pygments_lexer": "ipython3",
   "version": "3.11.1"
  }
 },
 "nbformat": 4,
 "nbformat_minor": 5
}
